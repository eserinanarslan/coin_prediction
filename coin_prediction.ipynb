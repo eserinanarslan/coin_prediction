{
 "cells": [
  {
   "cell_type": "markdown",
   "metadata": {
    "colab_type": "text",
    "id": "3eg8tQyfYHTb"
   },
   "source": [
    "**Install requirements**"
   ]
  },
  {
   "cell_type": "code",
   "execution_count": 3,
   "metadata": {
    "colab": {
     "base_uri": "https://localhost:8080/",
     "height": 221
    },
    "colab_type": "code",
    "executionInfo": {
     "elapsed": 4249,
     "status": "ok",
     "timestamp": 1584302702583,
     "user": {
      "displayName": "Eser İnan Arslan",
      "photoUrl": "https://lh3.googleusercontent.com/a-/AOh14Ggz536p806W0W9-wxWFfPdVV303PuNNPAhu9S1UjA=s64",
      "userId": "01966049699378036829"
     },
     "user_tz": -180
    },
    "id": "I41b6kL4C24P",
    "outputId": "b1518a4f-d2f9-4bbc-d676-f5b9cab4c0ba"
   },
   "outputs": [
    {
     "name": "stdout",
     "output_type": "stream",
     "text": [
      "Requirement already satisfied: pyramid-arima in /Library/Frameworks/Python.framework/Versions/3.6/lib/python3.6/site-packages (0.8.1)\n",
      "Requirement already satisfied: scipy>=0.9 in /Library/Frameworks/Python.framework/Versions/3.6/lib/python3.6/site-packages (from pyramid-arima) (1.4.1)\n",
      "Requirement already satisfied: Cython>=0.23 in /Library/Frameworks/Python.framework/Versions/3.6/lib/python3.6/site-packages (from pyramid-arima) (0.29.17)\n",
      "Requirement already satisfied: pandas>=0.19 in /Library/Frameworks/Python.framework/Versions/3.6/lib/python3.6/site-packages (from pyramid-arima) (0.25.1)\n",
      "Requirement already satisfied: numpy>=1.10 in /Library/Frameworks/Python.framework/Versions/3.6/lib/python3.6/site-packages (from pyramid-arima) (1.17.1)\n",
      "Requirement already satisfied: scikit-learn>=0.17 in /Library/Frameworks/Python.framework/Versions/3.6/lib/python3.6/site-packages (from pyramid-arima) (0.21.3)\n",
      "Requirement already satisfied: statsmodels>=0.9.0 in /Library/Frameworks/Python.framework/Versions/3.6/lib/python3.6/site-packages (from pyramid-arima) (0.11.1)\n",
      "Requirement already satisfied: python-dateutil>=2.6.1 in /Users/eser.arslan/Library/Python/3.6/lib/python/site-packages (from pandas>=0.19->pyramid-arima) (2.8.0)\n",
      "Requirement already satisfied: pytz>=2017.2 in /Library/Frameworks/Python.framework/Versions/3.6/lib/python3.6/site-packages (from pandas>=0.19->pyramid-arima) (2019.2)\n",
      "Requirement already satisfied: joblib>=0.11 in /Library/Frameworks/Python.framework/Versions/3.6/lib/python3.6/site-packages (from scikit-learn>=0.17->pyramid-arima) (0.13.2)\n",
      "Requirement already satisfied: patsy>=0.5 in /Library/Frameworks/Python.framework/Versions/3.6/lib/python3.6/site-packages (from statsmodels>=0.9.0->pyramid-arima) (0.5.1)\n",
      "Requirement already satisfied: six>=1.5 in /Users/eser.arslan/Library/Python/3.6/lib/python/site-packages (from python-dateutil>=2.6.1->pandas>=0.19->pyramid-arima) (1.12.0)\n",
      "\u001b[33mWARNING: You are using pip version 20.1.1; however, version 20.2.2 is available.\n",
      "You should consider upgrading via the '/Library/Frameworks/Python.framework/Versions/3.6/bin/python3 -m pip install --upgrade pip' command.\u001b[0m\n",
      "Note: you may need to restart the kernel to use updated packages.\n"
     ]
    }
   ],
   "source": [
    "pip install pyramid-arima"
   ]
  },
  {
   "cell_type": "code",
   "execution_count": 9,
   "metadata": {
    "colab": {
     "base_uri": "https://localhost:8080/",
     "height": 258
    },
    "colab_type": "code",
    "executionInfo": {
     "elapsed": 20104,
     "status": "ok",
     "timestamp": 1584302719795,
     "user": {
      "displayName": "Eser İnan Arslan",
      "photoUrl": "https://lh3.googleusercontent.com/a-/AOh14Ggz536p806W0W9-wxWFfPdVV303PuNNPAhu9S1UjA=s64",
      "userId": "01966049699378036829"
     },
     "user_tz": -180
    },
    "id": "GDuI5J8yEC1P",
    "outputId": "54956915-46da-4555-ea00-72913493c1a2"
   },
   "outputs": [
    {
     "name": "stdout",
     "output_type": "stream",
     "text": [
      "Requirement already satisfied: scikit-learn in /Library/Frameworks/Python.framework/Versions/3.6/lib/python3.6/site-packages (0.21.3)\n",
      "Requirement already satisfied: numpy>=1.11.0 in /Library/Frameworks/Python.framework/Versions/3.6/lib/python3.6/site-packages (from scikit-learn) (1.17.1)\n",
      "Requirement already satisfied: scipy>=0.17.0 in /Library/Frameworks/Python.framework/Versions/3.6/lib/python3.6/site-packages (from scikit-learn) (1.4.1)\n",
      "Requirement already satisfied: joblib>=0.11 in /Library/Frameworks/Python.framework/Versions/3.6/lib/python3.6/site-packages (from scikit-learn) (0.13.2)\n",
      "\u001b[33mWARNING: You are using pip version 20.1.1; however, version 20.2.2 is available.\n",
      "You should consider upgrading via the '/Library/Frameworks/Python.framework/Versions/3.6/bin/python3 -m pip install --upgrade pip' command.\u001b[0m\n"
     ]
    }
   ],
   "source": [
    "#!pip uninstall scikit-learn\n",
    "!pip install scikit-learn"
   ]
  },
  {
   "cell_type": "code",
   "execution_count": 10,
   "metadata": {
    "colab": {
     "base_uri": "https://localhost:8080/",
     "height": 170
    },
    "colab_type": "code",
    "executionInfo": {
     "elapsed": 21308,
     "status": "ok",
     "timestamp": 1584302722794,
     "user": {
      "displayName": "Eser İnan Arslan",
      "photoUrl": "https://lh3.googleusercontent.com/a-/AOh14Ggz536p806W0W9-wxWFfPdVV303PuNNPAhu9S1UjA=s64",
      "userId": "01966049699378036829"
     },
     "user_tz": -180
    },
    "id": "zhfEz1-nECwm",
    "outputId": "47f2993c-9e7b-421e-ed4d-1154c7be7f57"
   },
   "outputs": [
    {
     "name": "stdout",
     "output_type": "stream",
     "text": [
      "Requirement already satisfied: chart_studio in /Library/Frameworks/Python.framework/Versions/3.6/lib/python3.6/site-packages (1.1.0)\n",
      "Requirement already satisfied: six in /Users/eser.arslan/Library/Python/3.6/lib/python/site-packages (from chart_studio) (1.12.0)\n",
      "Requirement already satisfied: plotly in /Library/Frameworks/Python.framework/Versions/3.6/lib/python3.6/site-packages (from chart_studio) (4.8.0)\n",
      "Requirement already satisfied: retrying>=1.3.3 in /Library/Frameworks/Python.framework/Versions/3.6/lib/python3.6/site-packages (from chart_studio) (1.3.3)\n",
      "Requirement already satisfied: requests in /Library/Frameworks/Python.framework/Versions/3.6/lib/python3.6/site-packages (from chart_studio) (2.22.0)\n",
      "Requirement already satisfied: certifi>=2017.4.17 in /Library/Frameworks/Python.framework/Versions/3.6/lib/python3.6/site-packages (from requests->chart_studio) (2019.6.16)\n",
      "Requirement already satisfied: idna<2.9,>=2.5 in /Library/Frameworks/Python.framework/Versions/3.6/lib/python3.6/site-packages (from requests->chart_studio) (2.8)\n",
      "Requirement already satisfied: urllib3!=1.25.0,!=1.25.1,<1.26,>=1.21.1 in /Users/eser.arslan/Library/Python/3.6/lib/python/site-packages (from requests->chart_studio) (1.24.3)\n",
      "Requirement already satisfied: chardet<3.1.0,>=3.0.2 in /Library/Frameworks/Python.framework/Versions/3.6/lib/python3.6/site-packages (from requests->chart_studio) (3.0.4)\n",
      "\u001b[33mWARNING: You are using pip version 20.1.1; however, version 20.2.2 is available.\n",
      "You should consider upgrading via the '/Library/Frameworks/Python.framework/Versions/3.6/bin/python3 -m pip install --upgrade pip' command.\u001b[0m\n"
     ]
    }
   ],
   "source": [
    "!pip install chart_studio"
   ]
  },
  {
   "cell_type": "code",
   "execution_count": null,
   "metadata": {
    "colab": {},
    "colab_type": "code",
    "id": "GXDTqDA5YRuQ"
   },
   "outputs": [],
   "source": []
  },
  {
   "cell_type": "markdown",
   "metadata": {
    "colab_type": "text",
    "id": "WnQN3SD2YTGJ"
   },
   "source": [
    "***Import Libraries***"
   ]
  },
  {
   "cell_type": "code",
   "execution_count": 11,
   "metadata": {
    "colab": {
     "base_uri": "https://localhost:8080/",
     "height": 474
    },
    "colab_type": "code",
    "executionInfo": {
     "elapsed": 20654,
     "status": "ok",
     "timestamp": 1584302725415,
     "user": {
      "displayName": "Eser İnan Arslan",
      "photoUrl": "https://lh3.googleusercontent.com/a-/AOh14Ggz536p806W0W9-wxWFfPdVV303PuNNPAhu9S1UjA=s64",
      "userId": "01966049699378036829"
     },
     "user_tz": -180
    },
    "id": "5aPFpeTtxIx4",
    "outputId": "ff7d4d5f-0356-4428-81cc-05115d043391"
   },
   "outputs": [],
   "source": [
    "%matplotlib inline\n",
    "\n",
    "import numpy as np\n",
    "import pandas as pd\n",
    "import matplotlib.pyplot as plt\n",
    "\n",
    "import chart_studio.plotly as plot_mpl\n",
    "import plotly.graph_objs as go\n",
    "import xgboost as xgb\n",
    "import keras.backend as K\n",
    "import tensorflow as tf\n",
    "\n",
    "from math import sqrt\n",
    "from datetime import datetime\n",
    "from statsmodels.tsa.stattools import adfuller\n",
    "from pyramid.arima import auto_arima\n",
    "\n",
    "from socket import socket\n",
    "from statsmodels.tsa.seasonal import seasonal_decompose\n",
    "\n",
    "from keras.models import Sequential\n",
    "from keras.layers import Conv1D, LSTM, TimeDistributed, Dense\n",
    "from keras.optimizers import Adam\n",
    "from keras.callbacks import EarlyStopping\n",
    "\n",
    "from sklearn.model_selection import GridSearchCV\n",
    "from sklearn.preprocessing import MinMaxScaler\n",
    "from sklearn.metrics import mean_squared_error, mean_absolute_error, mean_squared_log_error"
   ]
  },
  {
   "cell_type": "code",
   "execution_count": 12,
   "metadata": {
    "colab": {},
    "colab_type": "code",
    "id": "UkDzNKKR1Xhw"
   },
   "outputs": [],
   "source": [
    "#Set parameters to see all data\n",
    "pd.set_option('display.max_rows', 150)\n",
    "pd.set_option('display.max_columns', 50)\n",
    "pd.set_option('display.width', 1000)"
   ]
  },
  {
   "cell_type": "code",
   "execution_count": 13,
   "metadata": {
    "colab": {},
    "colab_type": "code",
    "id": "9yjA1LCuFISt"
   },
   "outputs": [
    {
     "ename": "ModuleNotFoundError",
     "evalue": "No module named 'google.colab'",
     "output_type": "error",
     "traceback": [
      "\u001b[0;31m---------------------------------------------------------------------------\u001b[0m",
      "\u001b[0;31mModuleNotFoundError\u001b[0m                       Traceback (most recent call last)",
      "\u001b[0;32m<ipython-input-13-ee201b91671e>\u001b[0m in \u001b[0;36m<module>\u001b[0;34m\u001b[0m\n\u001b[0;32m----> 1\u001b[0;31m \u001b[0;32mfrom\u001b[0m \u001b[0mgoogle\u001b[0m\u001b[0;34m.\u001b[0m\u001b[0mcolab\u001b[0m \u001b[0;32mimport\u001b[0m \u001b[0mfiles\u001b[0m\u001b[0;34m\u001b[0m\u001b[0m\n\u001b[0m",
      "\u001b[0;31mModuleNotFoundError\u001b[0m: No module named 'google.colab'"
     ]
    }
   ],
   "source": [
    "from google.colab import files"
   ]
  },
  {
   "cell_type": "code",
   "execution_count": null,
   "metadata": {
    "colab": {
     "base_uri": "https://localhost:8080/",
     "height": 71,
     "resources": {
      "http://localhost:8080/nbextensions/google.colab/files.js": {
       "data": "Ly8gQ29weXJpZ2h0IDIwMTcgR29vZ2xlIExMQwovLwovLyBMaWNlbnNlZCB1bmRlciB0aGUgQXBhY2hlIExpY2Vuc2UsIFZlcnNpb24gMi4wICh0aGUgIkxpY2Vuc2UiKTsKLy8geW91IG1heSBub3QgdXNlIHRoaXMgZmlsZSBleGNlcHQgaW4gY29tcGxpYW5jZSB3aXRoIHRoZSBMaWNlbnNlLgovLyBZb3UgbWF5IG9idGFpbiBhIGNvcHkgb2YgdGhlIExpY2Vuc2UgYXQKLy8KLy8gICAgICBodHRwOi8vd3d3LmFwYWNoZS5vcmcvbGljZW5zZXMvTElDRU5TRS0yLjAKLy8KLy8gVW5sZXNzIHJlcXVpcmVkIGJ5IGFwcGxpY2FibGUgbGF3IG9yIGFncmVlZCB0byBpbiB3cml0aW5nLCBzb2Z0d2FyZQovLyBkaXN0cmlidXRlZCB1bmRlciB0aGUgTGljZW5zZSBpcyBkaXN0cmlidXRlZCBvbiBhbiAiQVMgSVMiIEJBU0lTLAovLyBXSVRIT1VUIFdBUlJBTlRJRVMgT1IgQ09ORElUSU9OUyBPRiBBTlkgS0lORCwgZWl0aGVyIGV4cHJlc3Mgb3IgaW1wbGllZC4KLy8gU2VlIHRoZSBMaWNlbnNlIGZvciB0aGUgc3BlY2lmaWMgbGFuZ3VhZ2UgZ292ZXJuaW5nIHBlcm1pc3Npb25zIGFuZAovLyBsaW1pdGF0aW9ucyB1bmRlciB0aGUgTGljZW5zZS4KCi8qKgogKiBAZmlsZW92ZXJ2aWV3IEhlbHBlcnMgZm9yIGdvb2dsZS5jb2xhYiBQeXRob24gbW9kdWxlLgogKi8KKGZ1bmN0aW9uKHNjb3BlKSB7CmZ1bmN0aW9uIHNwYW4odGV4dCwgc3R5bGVBdHRyaWJ1dGVzID0ge30pIHsKICBjb25zdCBlbGVtZW50ID0gZG9jdW1lbnQuY3JlYXRlRWxlbWVudCgnc3BhbicpOwogIGVsZW1lbnQudGV4dENvbnRlbnQgPSB0ZXh0OwogIGZvciAoY29uc3Qga2V5IG9mIE9iamVjdC5rZXlzKHN0eWxlQXR0cmlidXRlcykpIHsKICAgIGVsZW1lbnQuc3R5bGVba2V5XSA9IHN0eWxlQXR0cmlidXRlc1trZXldOwogIH0KICByZXR1cm4gZWxlbWVudDsKfQoKLy8gTWF4IG51bWJlciBvZiBieXRlcyB3aGljaCB3aWxsIGJlIHVwbG9hZGVkIGF0IGEgdGltZS4KY29uc3QgTUFYX1BBWUxPQURfU0laRSA9IDEwMCAqIDEwMjQ7Ci8vIE1heCBhbW91bnQgb2YgdGltZSB0byBibG9jayB3YWl0aW5nIGZvciB0aGUgdXNlci4KY29uc3QgRklMRV9DSEFOR0VfVElNRU9VVF9NUyA9IDMwICogMTAwMDsKCmZ1bmN0aW9uIF91cGxvYWRGaWxlcyhpbnB1dElkLCBvdXRwdXRJZCkgewogIGNvbnN0IHN0ZXBzID0gdXBsb2FkRmlsZXNTdGVwKGlucHV0SWQsIG91dHB1dElkKTsKICBjb25zdCBvdXRwdXRFbGVtZW50ID0gZG9jdW1lbnQuZ2V0RWxlbWVudEJ5SWQob3V0cHV0SWQpOwogIC8vIENhY2hlIHN0ZXBzIG9uIHRoZSBvdXRwdXRFbGVtZW50IHRvIG1ha2UgaXQgYXZhaWxhYmxlIGZvciB0aGUgbmV4dCBjYWxsCiAgLy8gdG8gdXBsb2FkRmlsZXNDb250aW51ZSBmcm9tIFB5dGhvbi4KICBvdXRwdXRFbGVtZW50LnN0ZXBzID0gc3RlcHM7CgogIHJldHVybiBfdXBsb2FkRmlsZXNDb250aW51ZShvdXRwdXRJZCk7Cn0KCi8vIFRoaXMgaXMgcm91Z2hseSBhbiBhc3luYyBnZW5lcmF0b3IgKG5vdCBzdXBwb3J0ZWQgaW4gdGhlIGJyb3dzZXIgeWV0KSwKLy8gd2hlcmUgdGhlcmUgYXJlIG11bHRpcGxlIGFzeW5jaHJvbm91cyBzdGVwcyBhbmQgdGhlIFB5dGhvbiBzaWRlIGlzIGdvaW5nCi8vIHRvIHBvbGwgZm9yIGNvbXBsZXRpb24gb2YgZWFjaCBzdGVwLgovLyBUaGlzIHVzZXMgYSBQcm9taXNlIHRvIGJsb2NrIHRoZSBweXRob24gc2lkZSBvbiBjb21wbGV0aW9uIG9mIGVhY2ggc3RlcCwKLy8gdGhlbiBwYXNzZXMgdGhlIHJlc3VsdCBvZiB0aGUgcHJldmlvdXMgc3RlcCBhcyB0aGUgaW5wdXQgdG8gdGhlIG5leHQgc3RlcC4KZnVuY3Rpb24gX3VwbG9hZEZpbGVzQ29udGludWUob3V0cHV0SWQpIHsKICBjb25zdCBvdXRwdXRFbGVtZW50ID0gZG9jdW1lbnQuZ2V0RWxlbWVudEJ5SWQob3V0cHV0SWQpOwogIGNvbnN0IHN0ZXBzID0gb3V0cHV0RWxlbWVudC5zdGVwczsKCiAgY29uc3QgbmV4dCA9IHN0ZXBzLm5leHQob3V0cHV0RWxlbWVudC5sYXN0UHJvbWlzZVZhbHVlKTsKICByZXR1cm4gUHJvbWlzZS5yZXNvbHZlKG5leHQudmFsdWUucHJvbWlzZSkudGhlbigodmFsdWUpID0+IHsKICAgIC8vIENhY2hlIHRoZSBsYXN0IHByb21pc2UgdmFsdWUgdG8gbWFrZSBpdCBhdmFpbGFibGUgdG8gdGhlIG5leHQKICAgIC8vIHN0ZXAgb2YgdGhlIGdlbmVyYXRvci4KICAgIG91dHB1dEVsZW1lbnQubGFzdFByb21pc2VWYWx1ZSA9IHZhbHVlOwogICAgcmV0dXJuIG5leHQudmFsdWUucmVzcG9uc2U7CiAgfSk7Cn0KCi8qKgogKiBHZW5lcmF0b3IgZnVuY3Rpb24gd2hpY2ggaXMgY2FsbGVkIGJldHdlZW4gZWFjaCBhc3luYyBzdGVwIG9mIHRoZSB1cGxvYWQKICogcHJvY2Vzcy4KICogQHBhcmFtIHtzdHJpbmd9IGlucHV0SWQgRWxlbWVudCBJRCBvZiB0aGUgaW5wdXQgZmlsZSBwaWNrZXIgZWxlbWVudC4KICogQHBhcmFtIHtzdHJpbmd9IG91dHB1dElkIEVsZW1lbnQgSUQgb2YgdGhlIG91dHB1dCBkaXNwbGF5LgogKiBAcmV0dXJuIHshSXRlcmFibGU8IU9iamVjdD59IEl0ZXJhYmxlIG9mIG5leHQgc3RlcHMuCiAqLwpmdW5jdGlvbiogdXBsb2FkRmlsZXNTdGVwKGlucHV0SWQsIG91dHB1dElkKSB7CiAgY29uc3QgaW5wdXRFbGVtZW50ID0gZG9jdW1lbnQuZ2V0RWxlbWVudEJ5SWQoaW5wdXRJZCk7CiAgaW5wdXRFbGVtZW50LmRpc2FibGVkID0gZmFsc2U7CgogIGNvbnN0IG91dHB1dEVsZW1lbnQgPSBkb2N1bWVudC5nZXRFbGVtZW50QnlJZChvdXRwdXRJZCk7CiAgb3V0cHV0RWxlbWVudC5pbm5lckhUTUwgPSAnJzsKCiAgY29uc3QgcGlja2VkUHJvbWlzZSA9IG5ldyBQcm9taXNlKChyZXNvbHZlKSA9PiB7CiAgICBpbnB1dEVsZW1lbnQuYWRkRXZlbnRMaXN0ZW5lcignY2hhbmdlJywgKGUpID0+IHsKICAgICAgcmVzb2x2ZShlLnRhcmdldC5maWxlcyk7CiAgICB9KTsKICB9KTsKCiAgY29uc3QgY2FuY2VsID0gZG9jdW1lbnQuY3JlYXRlRWxlbWVudCgnYnV0dG9uJyk7CiAgaW5wdXRFbGVtZW50LnBhcmVudEVsZW1lbnQuYXBwZW5kQ2hpbGQoY2FuY2VsKTsKICBjYW5jZWwudGV4dENvbnRlbnQgPSAnQ2FuY2VsIHVwbG9hZCc7CiAgY29uc3QgY2FuY2VsUHJvbWlzZSA9IG5ldyBQcm9taXNlKChyZXNvbHZlKSA9PiB7CiAgICBjYW5jZWwub25jbGljayA9ICgpID0+IHsKICAgICAgcmVzb2x2ZShudWxsKTsKICAgIH07CiAgfSk7CgogIC8vIENhbmNlbCB1cGxvYWQgaWYgdXNlciBoYXNuJ3QgcGlja2VkIGFueXRoaW5nIGluIHRpbWVvdXQuCiAgY29uc3QgdGltZW91dFByb21pc2UgPSBuZXcgUHJvbWlzZSgocmVzb2x2ZSkgPT4gewogICAgc2V0VGltZW91dCgoKSA9PiB7CiAgICAgIHJlc29sdmUobnVsbCk7CiAgICB9LCBGSUxFX0NIQU5HRV9USU1FT1VUX01TKTsKICB9KTsKCiAgLy8gV2FpdCBmb3IgdGhlIHVzZXIgdG8gcGljayB0aGUgZmlsZXMuCiAgY29uc3QgZmlsZXMgPSB5aWVsZCB7CiAgICBwcm9taXNlOiBQcm9taXNlLnJhY2UoW3BpY2tlZFByb21pc2UsIHRpbWVvdXRQcm9taXNlLCBjYW5jZWxQcm9taXNlXSksCiAgICByZXNwb25zZTogewogICAgICBhY3Rpb246ICdzdGFydGluZycsCiAgICB9CiAgfTsKCiAgaWYgKCFmaWxlcykgewogICAgcmV0dXJuIHsKICAgICAgcmVzcG9uc2U6IHsKICAgICAgICBhY3Rpb246ICdjb21wbGV0ZScsCiAgICAgIH0KICAgIH07CiAgfQoKICBjYW5jZWwucmVtb3ZlKCk7CgogIC8vIERpc2FibGUgdGhlIGlucHV0IGVsZW1lbnQgc2luY2UgZnVydGhlciBwaWNrcyBhcmUgbm90IGFsbG93ZWQuCiAgaW5wdXRFbGVtZW50LmRpc2FibGVkID0gdHJ1ZTsKCiAgZm9yIChjb25zdCBmaWxlIG9mIGZpbGVzKSB7CiAgICBjb25zdCBsaSA9IGRvY3VtZW50LmNyZWF0ZUVsZW1lbnQoJ2xpJyk7CiAgICBsaS5hcHBlbmQoc3BhbihmaWxlLm5hbWUsIHtmb250V2VpZ2h0OiAnYm9sZCd9KSk7CiAgICBsaS5hcHBlbmQoc3BhbigKICAgICAgICBgKCR7ZmlsZS50eXBlIHx8ICduL2EnfSkgLSAke2ZpbGUuc2l6ZX0gYnl0ZXMsIGAgKwogICAgICAgIGBsYXN0IG1vZGlmaWVkOiAkewogICAgICAgICAgICBmaWxlLmxhc3RNb2RpZmllZERhdGUgPyBmaWxlLmxhc3RNb2RpZmllZERhdGUudG9Mb2NhbGVEYXRlU3RyaW5nKCkgOgogICAgICAgICAgICAgICAgICAgICAgICAgICAgICAgICAgICAnbi9hJ30gLSBgKSk7CiAgICBjb25zdCBwZXJjZW50ID0gc3BhbignMCUgZG9uZScpOwogICAgbGkuYXBwZW5kQ2hpbGQocGVyY2VudCk7CgogICAgb3V0cHV0RWxlbWVudC5hcHBlbmRDaGlsZChsaSk7CgogICAgY29uc3QgZmlsZURhdGFQcm9taXNlID0gbmV3IFByb21pc2UoKHJlc29sdmUpID0+IHsKICAgICAgY29uc3QgcmVhZGVyID0gbmV3IEZpbGVSZWFkZXIoKTsKICAgICAgcmVhZGVyLm9ubG9hZCA9IChlKSA9PiB7CiAgICAgICAgcmVzb2x2ZShlLnRhcmdldC5yZXN1bHQpOwogICAgICB9OwogICAgICByZWFkZXIucmVhZEFzQXJyYXlCdWZmZXIoZmlsZSk7CiAgICB9KTsKICAgIC8vIFdhaXQgZm9yIHRoZSBkYXRhIHRvIGJlIHJlYWR5LgogICAgbGV0IGZpbGVEYXRhID0geWllbGQgewogICAgICBwcm9taXNlOiBmaWxlRGF0YVByb21pc2UsCiAgICAgIHJlc3BvbnNlOiB7CiAgICAgICAgYWN0aW9uOiAnY29udGludWUnLAogICAgICB9CiAgICB9OwoKICAgIC8vIFVzZSBhIGNodW5rZWQgc2VuZGluZyB0byBhdm9pZCBtZXNzYWdlIHNpemUgbGltaXRzLiBTZWUgYi82MjExNTY2MC4KICAgIGxldCBwb3NpdGlvbiA9IDA7CiAgICB3aGlsZSAocG9zaXRpb24gPCBmaWxlRGF0YS5ieXRlTGVuZ3RoKSB7CiAgICAgIGNvbnN0IGxlbmd0aCA9IE1hdGgubWluKGZpbGVEYXRhLmJ5dGVMZW5ndGggLSBwb3NpdGlvbiwgTUFYX1BBWUxPQURfU0laRSk7CiAgICAgIGNvbnN0IGNodW5rID0gbmV3IFVpbnQ4QXJyYXkoZmlsZURhdGEsIHBvc2l0aW9uLCBsZW5ndGgpOwogICAgICBwb3NpdGlvbiArPSBsZW5ndGg7CgogICAgICBjb25zdCBiYXNlNjQgPSBidG9hKFN0cmluZy5mcm9tQ2hhckNvZGUuYXBwbHkobnVsbCwgY2h1bmspKTsKICAgICAgeWllbGQgewogICAgICAgIHJlc3BvbnNlOiB7CiAgICAgICAgICBhY3Rpb246ICdhcHBlbmQnLAogICAgICAgICAgZmlsZTogZmlsZS5uYW1lLAogICAgICAgICAgZGF0YTogYmFzZTY0LAogICAgICAgIH0sCiAgICAgIH07CiAgICAgIHBlcmNlbnQudGV4dENvbnRlbnQgPQogICAgICAgICAgYCR7TWF0aC5yb3VuZCgocG9zaXRpb24gLyBmaWxlRGF0YS5ieXRlTGVuZ3RoKSAqIDEwMCl9JSBkb25lYDsKICAgIH0KICB9CgogIC8vIEFsbCBkb25lLgogIHlpZWxkIHsKICAgIHJlc3BvbnNlOiB7CiAgICAgIGFjdGlvbjogJ2NvbXBsZXRlJywKICAgIH0KICB9Owp9CgpzY29wZS5nb29nbGUgPSBzY29wZS5nb29nbGUgfHwge307CnNjb3BlLmdvb2dsZS5jb2xhYiA9IHNjb3BlLmdvb2dsZS5jb2xhYiB8fCB7fTsKc2NvcGUuZ29vZ2xlLmNvbGFiLl9maWxlcyA9IHsKICBfdXBsb2FkRmlsZXMsCiAgX3VwbG9hZEZpbGVzQ29udGludWUsCn07Cn0pKHNlbGYpOwo=",
       "headers": [
        [
         "content-type",
         "application/javascript"
        ]
       ],
       "ok": true,
       "status": 200,
       "status_text": ""
      }
     }
    },
    "colab_type": "code",
    "executionInfo": {
     "elapsed": 11909,
     "status": "ok",
     "timestamp": 1584290724196,
     "user": {
      "displayName": "Eser İnan Arslan",
      "photoUrl": "https://lh3.googleusercontent.com/a-/AOh14Ggz536p806W0W9-wxWFfPdVV303PuNNPAhu9S1UjA=s64",
      "userId": "01966049699378036829"
     },
     "user_tz": -180
    },
    "id": "-wk9pAGJxfqv",
    "outputId": "ae9ea8c6-a663-40a4-ae36-a7cc142a0c69"
   },
   "outputs": [],
   "source": [
    "#Upload train data set file from local to colabs area\n",
    "uploaded = files.upload()"
   ]
  },
  {
   "cell_type": "code",
   "execution_count": 18,
   "metadata": {
    "colab": {
     "base_uri": "https://localhost:8080/",
     "height": 359
    },
    "colab_type": "code",
    "executionInfo": {
     "elapsed": 679,
     "status": "ok",
     "timestamp": 1584302736614,
     "user": {
      "displayName": "Eser İnan Arslan",
      "photoUrl": "https://lh3.googleusercontent.com/a-/AOh14Ggz536p806W0W9-wxWFfPdVV303PuNNPAhu9S1UjA=s64",
      "userId": "01966049699378036829"
     },
     "user_tz": -180
    },
    "id": "jJTZ-EIUxh_q",
    "outputId": "ae0ace40-d30e-4a75-95f5-a046b99054af"
   },
   "outputs": [
    {
     "data": {
      "text/html": [
       "<div>\n",
       "<style scoped>\n",
       "    .dataframe tbody tr th:only-of-type {\n",
       "        vertical-align: middle;\n",
       "    }\n",
       "\n",
       "    .dataframe tbody tr th {\n",
       "        vertical-align: top;\n",
       "    }\n",
       "\n",
       "    .dataframe thead th {\n",
       "        text-align: right;\n",
       "    }\n",
       "</style>\n",
       "<table border=\"1\" class=\"dataframe\">\n",
       "  <thead>\n",
       "    <tr style=\"text-align: right;\">\n",
       "      <th></th>\n",
       "      <th>Date</th>\n",
       "      <th>Price</th>\n",
       "      <th>Open</th>\n",
       "      <th>High</th>\n",
       "      <th>Low</th>\n",
       "      <th>Vol.</th>\n",
       "      <th>Change %</th>\n",
       "    </tr>\n",
       "  </thead>\n",
       "  <tbody>\n",
       "    <tr>\n",
       "      <td>0</td>\n",
       "      <td>Sep 03, 2020</td>\n",
       "      <td>56.752</td>\n",
       "      <td>58.060</td>\n",
       "      <td>58.600</td>\n",
       "      <td>56.292</td>\n",
       "      <td>14.60M</td>\n",
       "      <td>-2.30%</td>\n",
       "    </tr>\n",
       "    <tr>\n",
       "      <td>1</td>\n",
       "      <td>Sep 02, 2020</td>\n",
       "      <td>58.087</td>\n",
       "      <td>62.697</td>\n",
       "      <td>63.168</td>\n",
       "      <td>56.658</td>\n",
       "      <td>14.91M</td>\n",
       "      <td>-7.40%</td>\n",
       "    </tr>\n",
       "    <tr>\n",
       "      <td>2</td>\n",
       "      <td>Sep 01, 2020</td>\n",
       "      <td>62.730</td>\n",
       "      <td>60.957</td>\n",
       "      <td>64.273</td>\n",
       "      <td>59.857</td>\n",
       "      <td>13.69M</td>\n",
       "      <td>2.91%</td>\n",
       "    </tr>\n",
       "    <tr>\n",
       "      <td>3</td>\n",
       "      <td>Aug 31, 2020</td>\n",
       "      <td>60.957</td>\n",
       "      <td>62.870</td>\n",
       "      <td>63.677</td>\n",
       "      <td>60.588</td>\n",
       "      <td>14.61M</td>\n",
       "      <td>-3.04%</td>\n",
       "    </tr>\n",
       "    <tr>\n",
       "      <td>4</td>\n",
       "      <td>Aug 30, 2020</td>\n",
       "      <td>62.870</td>\n",
       "      <td>56.952</td>\n",
       "      <td>62.883</td>\n",
       "      <td>56.931</td>\n",
       "      <td>14.95M</td>\n",
       "      <td>10.39%</td>\n",
       "    </tr>\n",
       "    <tr>\n",
       "      <td>393</td>\n",
       "      <td>Aug 07, 2019</td>\n",
       "      <td>90.546</td>\n",
       "      <td>93.042</td>\n",
       "      <td>94.286</td>\n",
       "      <td>87.764</td>\n",
       "      <td>10.54M</td>\n",
       "      <td>-2.69%</td>\n",
       "    </tr>\n",
       "    <tr>\n",
       "      <td>394</td>\n",
       "      <td>Aug 06, 2019</td>\n",
       "      <td>93.049</td>\n",
       "      <td>96.508</td>\n",
       "      <td>99.246</td>\n",
       "      <td>91.217</td>\n",
       "      <td>11.28M</td>\n",
       "      <td>-3.58%</td>\n",
       "    </tr>\n",
       "    <tr>\n",
       "      <td>395</td>\n",
       "      <td>Aug 05, 2019</td>\n",
       "      <td>96.504</td>\n",
       "      <td>92.700</td>\n",
       "      <td>106.384</td>\n",
       "      <td>92.700</td>\n",
       "      <td>15.38M</td>\n",
       "      <td>4.10%</td>\n",
       "    </tr>\n",
       "    <tr>\n",
       "      <td>396</td>\n",
       "      <td>Aug 04, 2019</td>\n",
       "      <td>92.701</td>\n",
       "      <td>94.190</td>\n",
       "      <td>94.740</td>\n",
       "      <td>90.548</td>\n",
       "      <td>8.48M</td>\n",
       "      <td>-1.58%</td>\n",
       "    </tr>\n",
       "    <tr>\n",
       "      <td>397</td>\n",
       "      <td>Aug 03, 2019</td>\n",
       "      <td>94.192</td>\n",
       "      <td>94.780</td>\n",
       "      <td>96.552</td>\n",
       "      <td>93.652</td>\n",
       "      <td>8.28M</td>\n",
       "      <td>-0.61%</td>\n",
       "    </tr>\n",
       "  </tbody>\n",
       "</table>\n",
       "</div>"
      ],
      "text/plain": [
       "             Date   Price    Open     High     Low    Vol. Change %\n",
       "0    Sep 03, 2020  56.752  58.060   58.600  56.292  14.60M   -2.30%\n",
       "1    Sep 02, 2020  58.087  62.697   63.168  56.658  14.91M   -7.40%\n",
       "2    Sep 01, 2020  62.730  60.957   64.273  59.857  13.69M    2.91%\n",
       "3    Aug 31, 2020  60.957  62.870   63.677  60.588  14.61M   -3.04%\n",
       "4    Aug 30, 2020  62.870  56.952   62.883  56.931  14.95M   10.39%\n",
       "393  Aug 07, 2019  90.546  93.042   94.286  87.764  10.54M   -2.69%\n",
       "394  Aug 06, 2019  93.049  96.508   99.246  91.217  11.28M   -3.58%\n",
       "395  Aug 05, 2019  96.504  92.700  106.384  92.700  15.38M    4.10%\n",
       "396  Aug 04, 2019  92.701  94.190   94.740  90.548   8.48M   -1.58%\n",
       "397  Aug 03, 2019  94.192  94.780   96.552  93.652   8.28M   -0.61%"
      ]
     },
     "execution_count": 18,
     "metadata": {},
     "output_type": "execute_result"
    }
   ],
   "source": [
    "# Load Train dataset\n",
    "train = pd.read_csv(\"data/Litecoin_Historica_Data.csv\")\n",
    "train.head(5).append(train.tail(5))"
   ]
  },
  {
   "cell_type": "code",
   "execution_count": 19,
   "metadata": {
    "colab": {
     "base_uri": "https://localhost:8080/",
     "height": 500
    },
    "colab_type": "code",
    "executionInfo": {
     "elapsed": 1352,
     "status": "ok",
     "timestamp": 1584302738805,
     "user": {
      "displayName": "Eser İnan Arslan",
      "photoUrl": "https://lh3.googleusercontent.com/a-/AOh14Ggz536p806W0W9-wxWFfPdVV303PuNNPAhu9S1UjA=s64",
      "userId": "01966049699378036829"
     },
     "user_tz": -180
    },
    "id": "uhiUDPQOGB9W",
    "outputId": "2d80cf38-3be1-4c55-acbf-9b7088f172a7"
   },
   "outputs": [
    {
     "data": {
      "text/plain": [
       "<matplotlib.axes._subplots.AxesSubplot at 0x7fddc8eaf160>"
      ]
     },
     "execution_count": 19,
     "metadata": {},
     "output_type": "execute_result"
    },
    {
     "data": {
      "image/png": "[encoded data removed]",
      "text/plain": [
       "<Figure size 1440x576 with 1 Axes>"
      ]
     },
     "metadata": {
      "needs_background": "light"
     },
     "output_type": "display_data"
    }
   ],
   "source": [
    "#Plot data\n",
    "train[:100].Price.plot(figsize=(20,8))"
   ]
  },
  {
   "cell_type": "code",
   "execution_count": 20,
   "metadata": {
    "colab": {
     "base_uri": "https://localhost:8080/",
     "height": 34
    },
    "colab_type": "code",
    "executionInfo": {
     "elapsed": 825,
     "status": "ok",
     "timestamp": 1584302738806,
     "user": {
      "displayName": "Eser İnan Arslan",
      "photoUrl": "https://lh3.googleusercontent.com/a-/AOh14Ggz536p806W0W9-wxWFfPdVV303PuNNPAhu9S1UjA=s64",
      "userId": "01966049699378036829"
     },
     "user_tz": -180
    },
    "id": "bByCC_K9yBf5",
    "outputId": "bbc68fc4-d2af-4500-c205-66302b6c1224"
   },
   "outputs": [
    {
     "data": {
      "text/plain": [
       "(398, 7)"
      ]
     },
     "execution_count": 20,
     "metadata": {},
     "output_type": "execute_result"
    }
   ],
   "source": [
    "train.shape"
   ]
  },
  {
   "cell_type": "code",
   "execution_count": 21,
   "metadata": {
    "colab": {
     "base_uri": "https://localhost:8080/",
     "height": 68
    },
    "colab_type": "code",
    "executionInfo": {
     "elapsed": 811,
     "status": "ok",
     "timestamp": 1584302739071,
     "user": {
      "displayName": "Eser İnan Arslan",
      "photoUrl": "https://lh3.googleusercontent.com/a-/AOh14Ggz536p806W0W9-wxWFfPdVV303PuNNPAhu9S1UjA=s64",
      "userId": "01966049699378036829"
     },
     "user_tz": -180
    },
    "id": "QQb0zZ92yJ4B",
    "outputId": "b758b2c2-95f1-4c2b-993e-bded6cbd7af5"
   },
   "outputs": [
    {
     "data": {
      "text/plain": [
       "Date         object\n",
       "Price       float64\n",
       "Open        float64\n",
       "High        float64\n",
       "Low         float64\n",
       "Vol.         object\n",
       "Change %     object\n",
       "dtype: object"
      ]
     },
     "execution_count": 21,
     "metadata": {},
     "output_type": "execute_result"
    }
   ],
   "source": [
    "train.dtypes"
   ]
  },
  {
   "cell_type": "markdown",
   "metadata": {
    "colab_type": "text",
    "id": "ZujNgXL2ZAPG"
   },
   "source": [
    "# **Preprocess**"
   ]
  },
  {
   "cell_type": "code",
   "execution_count": 22,
   "metadata": {
    "colab": {},
    "colab_type": "code",
    "id": "nlA5Kvc_1BWD"
   },
   "outputs": [],
   "source": [
    "train = train.set_index(['Date'])"
   ]
  },
  {
   "cell_type": "code",
   "execution_count": 23,
   "metadata": {
    "colab": {},
    "colab_type": "code",
    "id": "IcKWzU7knkCv"
   },
   "outputs": [],
   "source": [
    "train.index = pd.to_datetime(train.index)"
   ]
  },
  {
   "cell_type": "code",
   "execution_count": 24,
   "metadata": {
    "colab": {
     "base_uri": "https://localhost:8080/",
     "height": 51
    },
    "colab_type": "code",
    "executionInfo": {
     "elapsed": 701,
     "status": "ok",
     "timestamp": 1584302740797,
     "user": {
      "displayName": "Eser İnan Arslan",
      "photoUrl": "https://lh3.googleusercontent.com/a-/AOh14Ggz536p806W0W9-wxWFfPdVV303PuNNPAhu9S1UjA=s64",
      "userId": "01966049699378036829"
     },
     "user_tz": -180
    },
    "id": "oPDjHW-3oder",
    "outputId": "f19c141c-2414-4cb1-cb2f-06ae0d325017"
   },
   "outputs": [
    {
     "data": {
      "text/plain": [
       "Price       float64\n",
       "Open        float64\n",
       "High        float64\n",
       "Low         float64\n",
       "Vol.         object\n",
       "Change %     object\n",
       "dtype: object"
      ]
     },
     "execution_count": 24,
     "metadata": {},
     "output_type": "execute_result"
    }
   ],
   "source": [
    "train.dtypes"
   ]
  },
  {
   "cell_type": "code",
   "execution_count": null,
   "metadata": {
    "colab": {},
    "colab_type": "code",
    "id": "BPq2Gh6FhIlw"
   },
   "outputs": [],
   "source": []
  },
  {
   "cell_type": "code",
   "execution_count": 25,
   "metadata": {
    "colab": {},
    "colab_type": "code",
    "id": "oQgdOx-Vo6dY"
   },
   "outputs": [],
   "source": [
    "#Stationary Control\n",
    "#if P-Value is smaller than 0.005, we can say that there is stationary, else there is no stationary\n",
    "#if our data has no stationary, I will plan to use differences\n",
    "\n",
    "class Stationary:\n",
    "    def __init__(self, significance=.005):\n",
    "        self.SignificanceLevel = significance\n",
    "        self.pValue = None\n",
    "        self.isStationary = None\n",
    "\n",
    "    def ADF_Stationarity_Test(self, timeseries, printResults=True):\n",
    "\n",
    "        # Dickey-Fuller test:\n",
    "        print(timeseries)\n",
    "        try:\n",
    "            adfTest = adfuller(timeseries, autolag='AIC')\n",
    "\n",
    "            self.pValue = adfTest[1]\n",
    "\n",
    "            if (self.pValue < self.SignificanceLevel):\n",
    "                self.isStationary = True\n",
    "            else:\n",
    "                self.isStationary = False\n",
    "            #self.isStationary=True\n",
    "            if printResults:\n",
    "                dfResults = pd.Series(adfTest[0:4],\n",
    "                                      index=['ADF Test Statistic', 'P-Value', '# Lags Used', '# Observations Used'])\n",
    "\n",
    "                # Add Critical Values\n",
    "                for key, value in adfTest[4].items():\n",
    "                    dfResults['Critical Value (%s)' % key] = value\n",
    "\n",
    "                print('Augmented Dickey-Fuller Test Results:')\n",
    "                print(dfResults)\n",
    "        except Exception as e:\n",
    "          print(e)\n",
    "          self.isStationary = False"
   ]
  },
  {
   "cell_type": "code",
   "execution_count": 26,
   "metadata": {
    "colab": {},
    "colab_type": "code",
    "id": "jclD-k2n-3VW"
   },
   "outputs": [],
   "source": [
    "sTest = Stationary()"
   ]
  },
  {
   "cell_type": "code",
   "execution_count": 27,
   "metadata": {
    "colab": {
     "base_uri": "https://localhost:8080/",
     "height": 1000
    },
    "colab_type": "code",
    "executionInfo": {
     "elapsed": 694,
     "status": "ok",
     "timestamp": 1584302744321,
     "user": {
      "displayName": "Eser İnan Arslan",
      "photoUrl": "https://lh3.googleusercontent.com/a-/AOh14Ggz536p806W0W9-wxWFfPdVV303PuNNPAhu9S1UjA=s64",
      "userId": "01966049699378036829"
     },
     "user_tz": -180
    },
    "id": "BhKbhiIr-8Ly",
    "outputId": "f0ce88ee-32b6-42f4-ab09-8d35ce9ca9a9"
   },
   "outputs": [
    {
     "name": "stdout",
     "output_type": "stream",
     "text": [
      "Date\n",
      "2020-09-03    56.752\n",
      "2020-09-02    58.087\n",
      "2020-09-01    62.730\n",
      "2020-08-31    60.957\n",
      "2020-08-30    62.870\n",
      "               ...  \n",
      "2019-08-07    90.546\n",
      "2019-08-06    93.049\n",
      "2019-08-05    96.504\n",
      "2019-08-04    92.701\n",
      "2019-08-03    94.192\n",
      "Name: Price, Length: 398, dtype: float64\n",
      "Augmented Dickey-Fuller Test Results:\n",
      "ADF Test Statistic       -0.932764\n",
      "P-Value                   0.776991\n",
      "# Lags Used               4.000000\n",
      "# Observations Used     393.000000\n",
      "Critical Value (1%)      -3.447099\n",
      "Critical Value (5%)      -2.868923\n",
      "Critical Value (10%)     -2.570703\n",
      "dtype: float64\n",
      "False\n"
     ]
    }
   ],
   "source": [
    "sTest.ADF_Stationarity_Test(train['Price'])\n",
    "print(sTest.isStationary)"
   ]
  },
  {
   "cell_type": "markdown",
   "metadata": {
    "colab_type": "text",
    "id": "6JSYwMnIh3Kd"
   },
   "source": [
    "## **P-Values is higher than 0.005, so there no stationary.**\n",
    "\n",
    "![image.png](data:image/png;base64,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)"
   ]
  },
  {
   "cell_type": "code",
   "execution_count": 28,
   "metadata": {
    "colab": {},
    "colab_type": "code",
    "id": "vZw1fuMWA-qk"
   },
   "outputs": [],
   "source": [
    "# create a differenced series\n",
    "def difference(dataset, interval=1):\n",
    "    diff = list()\n",
    "    for i in range(interval, len(dataset)):\n",
    "        value = dataset[i] - dataset[i - interval]\n",
    "        # print(interval, dataset[i], dataset[i - interval])\n",
    "        diff.append(value)\n",
    "    return pd.Series(diff)"
   ]
  },
  {
   "cell_type": "code",
   "execution_count": 29,
   "metadata": {
    "colab": {},
    "colab_type": "code",
    "id": "SAh7zCh0BDdK"
   },
   "outputs": [],
   "source": [
    "diff_values = difference(train['Price'], 1)"
   ]
  },
  {
   "cell_type": "code",
   "execution_count": 30,
   "metadata": {
    "colab": {},
    "colab_type": "code",
    "id": "TWnyUj2IBFQs"
   },
   "outputs": [],
   "source": [
    " # split train test datasets\n",
    " xtrain, xtest = diff_values[0:-7], diff_values[-7:]"
   ]
  },
  {
   "cell_type": "code",
   "execution_count": 31,
   "metadata": {
    "colab": {
     "base_uri": "https://localhost:8080/",
     "height": 187
    },
    "colab_type": "code",
    "executionInfo": {
     "elapsed": 1179,
     "status": "ok",
     "timestamp": 1584302750270,
     "user": {
      "displayName": "Eser İnan Arslan",
      "photoUrl": "https://lh3.googleusercontent.com/a-/AOh14Ggz536p806W0W9-wxWFfPdVV303PuNNPAhu9S1UjA=s64",
      "userId": "01966049699378036829"
     },
     "user_tz": -180
    },
    "id": "VT1LZO5WBFTK",
    "outputId": "9d19b2db-5acf-47e4-b171-1e48a5d3d8d9"
   },
   "outputs": [
    {
     "data": {
      "text/plain": [
       "390   -1.181\n",
       "391    5.878\n",
       "392    0.337\n",
       "393    2.503\n",
       "394    3.455\n",
       "395   -3.803\n",
       "396    1.491\n",
       "dtype: float64"
      ]
     },
     "execution_count": 31,
     "metadata": {},
     "output_type": "execute_result"
    }
   ],
   "source": [
    "xtest"
   ]
  },
  {
   "cell_type": "code",
   "execution_count": 32,
   "metadata": {
    "colab": {},
    "colab_type": "code",
    "id": "wUd_YaO-BFX0"
   },
   "outputs": [],
   "source": [
    "# frame a sequence as a supervised learning problem\n",
    "def timeseries_to_supervised(data, lag=1):\n",
    "    dfx = pd.DataFrame(data)\n",
    "    df = dfx.assign(**{\n",
    "        '{} (t-{})'.format(col, t): dfx[col].shift(t)\n",
    "        for t in range(lag+1)\n",
    "        for col in dfx\n",
    "    })\n",
    "\n",
    "    df=df.drop([df.columns[0]], axis=1)\n",
    "    df=df[df.columns[::-1]]\n",
    "    return df[lag:]"
   ]
  },
  {
   "cell_type": "code",
   "execution_count": null,
   "metadata": {
    "colab": {},
    "colab_type": "code",
    "id": "6U-s4-sCir5d"
   },
   "outputs": [],
   "source": []
  },
  {
   "cell_type": "code",
   "execution_count": 33,
   "metadata": {
    "colab": {},
    "colab_type": "code",
    "id": "TJ4RoxddBFZ3"
   },
   "outputs": [],
   "source": [
    "# scale train and test data to [-1, 1] with MinMaxScaler\n",
    "def scale(train, test):\n",
    "    # fit scaler\n",
    "    scaler = MinMaxScaler()  \n",
    "    \n",
    "    # StandardScaler()\n",
    "    scaler = scaler.fit(train)\n",
    "\n",
    "    # transform train\n",
    "    train = train.reshape(train.shape[0], train.shape[1])\n",
    "    tr_scaled = scaler.transform(train)\n",
    "\n",
    "    # transform test\n",
    "    test = test.reshape(test.shape[0], test.shape[1])\n",
    "    ts_scaled = scaler.transform(test)\n",
    "    \n",
    "    return scaler, tr_scaled, ts_scaled"
   ]
  },
  {
   "cell_type": "code",
   "execution_count": 34,
   "metadata": {
    "colab": {},
    "colab_type": "code",
    "id": "HxtN4ORjBFcA"
   },
   "outputs": [],
   "source": [
    "# reorganize dataset acording to window size\n",
    "values_unscaled = np.concatenate((xtrain, xtest))\n",
    "supervised_raw = timeseries_to_supervised(values_unscaled, 12)"
   ]
  },
  {
   "cell_type": "code",
   "execution_count": 35,
   "metadata": {
    "colab": {
     "base_uri": "https://localhost:8080/",
     "height": 1000
    },
    "colab_type": "code",
    "executionInfo": {
     "elapsed": 726,
     "status": "ok",
     "timestamp": 1584302753224,
     "user": {
      "displayName": "Eser İnan Arslan",
      "photoUrl": "https://lh3.googleusercontent.com/a-/AOh14Ggz536p806W0W9-wxWFfPdVV303PuNNPAhu9S1UjA=s64",
      "userId": "01966049699378036829"
     },
     "user_tz": -180
    },
    "id": "7tjKzoBSBFeS",
    "outputId": "16a4004a-ebff-4d8b-c314-21887c5846fb"
   },
   "outputs": [
    {
     "data": {
      "text/html": [
       "<div>\n",
       "<style scoped>\n",
       "    .dataframe tbody tr th:only-of-type {\n",
       "        vertical-align: middle;\n",
       "    }\n",
       "\n",
       "    .dataframe tbody tr th {\n",
       "        vertical-align: top;\n",
       "    }\n",
       "\n",
       "    .dataframe thead th {\n",
       "        text-align: right;\n",
       "    }\n",
       "</style>\n",
       "<table border=\"1\" class=\"dataframe\">\n",
       "  <thead>\n",
       "    <tr style=\"text-align: right;\">\n",
       "      <th></th>\n",
       "      <th>0 (t-12)</th>\n",
       "      <th>0 (t-11)</th>\n",
       "      <th>0 (t-10)</th>\n",
       "      <th>0 (t-9)</th>\n",
       "      <th>0 (t-8)</th>\n",
       "      <th>0 (t-7)</th>\n",
       "      <th>0 (t-6)</th>\n",
       "      <th>0 (t-5)</th>\n",
       "      <th>0 (t-4)</th>\n",
       "      <th>0 (t-3)</th>\n",
       "      <th>0 (t-2)</th>\n",
       "      <th>0 (t-1)</th>\n",
       "      <th>0 (t-0)</th>\n",
       "    </tr>\n",
       "  </thead>\n",
       "  <tbody>\n",
       "    <tr>\n",
       "      <td>12</td>\n",
       "      <td>1.335</td>\n",
       "      <td>4.643</td>\n",
       "      <td>-1.773</td>\n",
       "      <td>1.913</td>\n",
       "      <td>-5.918</td>\n",
       "      <td>0.460</td>\n",
       "      <td>-1.336</td>\n",
       "      <td>2.011</td>\n",
       "      <td>0.262</td>\n",
       "      <td>3.743</td>\n",
       "      <td>-1.555</td>\n",
       "      <td>-0.309</td>\n",
       "      <td>-1.076</td>\n",
       "    </tr>\n",
       "    <tr>\n",
       "      <td>13</td>\n",
       "      <td>4.643</td>\n",
       "      <td>-1.773</td>\n",
       "      <td>1.913</td>\n",
       "      <td>-5.918</td>\n",
       "      <td>0.460</td>\n",
       "      <td>-1.336</td>\n",
       "      <td>2.011</td>\n",
       "      <td>0.262</td>\n",
       "      <td>3.743</td>\n",
       "      <td>-1.555</td>\n",
       "      <td>-0.309</td>\n",
       "      <td>-1.076</td>\n",
       "      <td>3.631</td>\n",
       "    </tr>\n",
       "    <tr>\n",
       "      <td>14</td>\n",
       "      <td>-1.773</td>\n",
       "      <td>1.913</td>\n",
       "      <td>-5.918</td>\n",
       "      <td>0.460</td>\n",
       "      <td>-1.336</td>\n",
       "      <td>2.011</td>\n",
       "      <td>0.262</td>\n",
       "      <td>3.743</td>\n",
       "      <td>-1.555</td>\n",
       "      <td>-0.309</td>\n",
       "      <td>-1.076</td>\n",
       "      <td>3.631</td>\n",
       "      <td>-0.678</td>\n",
       "    </tr>\n",
       "    <tr>\n",
       "      <td>15</td>\n",
       "      <td>1.913</td>\n",
       "      <td>-5.918</td>\n",
       "      <td>0.460</td>\n",
       "      <td>-1.336</td>\n",
       "      <td>2.011</td>\n",
       "      <td>0.262</td>\n",
       "      <td>3.743</td>\n",
       "      <td>-1.555</td>\n",
       "      <td>-0.309</td>\n",
       "      <td>-1.076</td>\n",
       "      <td>3.631</td>\n",
       "      <td>-0.678</td>\n",
       "      <td>3.345</td>\n",
       "    </tr>\n",
       "    <tr>\n",
       "      <td>16</td>\n",
       "      <td>-5.918</td>\n",
       "      <td>0.460</td>\n",
       "      <td>-1.336</td>\n",
       "      <td>2.011</td>\n",
       "      <td>0.262</td>\n",
       "      <td>3.743</td>\n",
       "      <td>-1.555</td>\n",
       "      <td>-0.309</td>\n",
       "      <td>-1.076</td>\n",
       "      <td>3.631</td>\n",
       "      <td>-0.678</td>\n",
       "      <td>3.345</td>\n",
       "      <td>1.748</td>\n",
       "    </tr>\n",
       "    <tr>\n",
       "      <td>...</td>\n",
       "      <td>...</td>\n",
       "      <td>...</td>\n",
       "      <td>...</td>\n",
       "      <td>...</td>\n",
       "      <td>...</td>\n",
       "      <td>...</td>\n",
       "      <td>...</td>\n",
       "      <td>...</td>\n",
       "      <td>...</td>\n",
       "      <td>...</td>\n",
       "      <td>...</td>\n",
       "      <td>...</td>\n",
       "      <td>...</td>\n",
       "    </tr>\n",
       "    <tr>\n",
       "      <td>392</td>\n",
       "      <td>2.014</td>\n",
       "      <td>-0.807</td>\n",
       "      <td>-3.610</td>\n",
       "      <td>1.972</td>\n",
       "      <td>1.641</td>\n",
       "      <td>-0.316</td>\n",
       "      <td>8.903</td>\n",
       "      <td>0.895</td>\n",
       "      <td>4.326</td>\n",
       "      <td>-4.595</td>\n",
       "      <td>-1.181</td>\n",
       "      <td>5.878</td>\n",
       "      <td>0.337</td>\n",
       "    </tr>\n",
       "    <tr>\n",
       "      <td>393</td>\n",
       "      <td>-0.807</td>\n",
       "      <td>-3.610</td>\n",
       "      <td>1.972</td>\n",
       "      <td>1.641</td>\n",
       "      <td>-0.316</td>\n",
       "      <td>8.903</td>\n",
       "      <td>0.895</td>\n",
       "      <td>4.326</td>\n",
       "      <td>-4.595</td>\n",
       "      <td>-1.181</td>\n",
       "      <td>5.878</td>\n",
       "      <td>0.337</td>\n",
       "      <td>2.503</td>\n",
       "    </tr>\n",
       "    <tr>\n",
       "      <td>394</td>\n",
       "      <td>-3.610</td>\n",
       "      <td>1.972</td>\n",
       "      <td>1.641</td>\n",
       "      <td>-0.316</td>\n",
       "      <td>8.903</td>\n",
       "      <td>0.895</td>\n",
       "      <td>4.326</td>\n",
       "      <td>-4.595</td>\n",
       "      <td>-1.181</td>\n",
       "      <td>5.878</td>\n",
       "      <td>0.337</td>\n",
       "      <td>2.503</td>\n",
       "      <td>3.455</td>\n",
       "    </tr>\n",
       "    <tr>\n",
       "      <td>395</td>\n",
       "      <td>1.972</td>\n",
       "      <td>1.641</td>\n",
       "      <td>-0.316</td>\n",
       "      <td>8.903</td>\n",
       "      <td>0.895</td>\n",
       "      <td>4.326</td>\n",
       "      <td>-4.595</td>\n",
       "      <td>-1.181</td>\n",
       "      <td>5.878</td>\n",
       "      <td>0.337</td>\n",
       "      <td>2.503</td>\n",
       "      <td>3.455</td>\n",
       "      <td>-3.803</td>\n",
       "    </tr>\n",
       "    <tr>\n",
       "      <td>396</td>\n",
       "      <td>1.641</td>\n",
       "      <td>-0.316</td>\n",
       "      <td>8.903</td>\n",
       "      <td>0.895</td>\n",
       "      <td>4.326</td>\n",
       "      <td>-4.595</td>\n",
       "      <td>-1.181</td>\n",
       "      <td>5.878</td>\n",
       "      <td>0.337</td>\n",
       "      <td>2.503</td>\n",
       "      <td>3.455</td>\n",
       "      <td>-3.803</td>\n",
       "      <td>1.491</td>\n",
       "    </tr>\n",
       "  </tbody>\n",
       "</table>\n",
       "<p>385 rows × 13 columns</p>\n",
       "</div>"
      ],
      "text/plain": [
       "     0 (t-12)  0 (t-11)  0 (t-10)  0 (t-9)  0 (t-8)  0 (t-7)  0 (t-6)  0 (t-5)  0 (t-4)  0 (t-3)  0 (t-2)  0 (t-1)  0 (t-0)\n",
       "12      1.335     4.643    -1.773    1.913   -5.918    0.460   -1.336    2.011    0.262    3.743   -1.555   -0.309   -1.076\n",
       "13      4.643    -1.773     1.913   -5.918    0.460   -1.336    2.011    0.262    3.743   -1.555   -0.309   -1.076    3.631\n",
       "14     -1.773     1.913    -5.918    0.460   -1.336    2.011    0.262    3.743   -1.555   -0.309   -1.076    3.631   -0.678\n",
       "15      1.913    -5.918     0.460   -1.336    2.011    0.262    3.743   -1.555   -0.309   -1.076    3.631   -0.678    3.345\n",
       "16     -5.918     0.460    -1.336    2.011    0.262    3.743   -1.555   -0.309   -1.076    3.631   -0.678    3.345    1.748\n",
       "..        ...       ...       ...      ...      ...      ...      ...      ...      ...      ...      ...      ...      ...\n",
       "392     2.014    -0.807    -3.610    1.972    1.641   -0.316    8.903    0.895    4.326   -4.595   -1.181    5.878    0.337\n",
       "393    -0.807    -3.610     1.972    1.641   -0.316    8.903    0.895    4.326   -4.595   -1.181    5.878    0.337    2.503\n",
       "394    -3.610     1.972     1.641   -0.316    8.903    0.895    4.326   -4.595   -1.181    5.878    0.337    2.503    3.455\n",
       "395     1.972     1.641    -0.316    8.903    0.895    4.326   -4.595   -1.181    5.878    0.337    2.503    3.455   -3.803\n",
       "396     1.641    -0.316     8.903    0.895    4.326   -4.595   -1.181    5.878    0.337    2.503    3.455   -3.803    1.491\n",
       "\n",
       "[385 rows x 13 columns]"
      ]
     },
     "execution_count": 35,
     "metadata": {},
     "output_type": "execute_result"
    }
   ],
   "source": [
    "supervised_raw"
   ]
  },
  {
   "cell_type": "code",
   "execution_count": 36,
   "metadata": {
    "colab": {},
    "colab_type": "code",
    "id": "CaafVjz3DbJb"
   },
   "outputs": [],
   "source": [
    "supervised_raw = supervised_raw.values.astype(\"float32\")"
   ]
  },
  {
   "cell_type": "code",
   "execution_count": 37,
   "metadata": {
    "colab": {
     "base_uri": "https://localhost:8080/",
     "height": 153
    },
    "colab_type": "code",
    "executionInfo": {
     "elapsed": 555,
     "status": "ok",
     "timestamp": 1584302756206,
     "user": {
      "displayName": "Eser İnan Arslan",
      "photoUrl": "https://lh3.googleusercontent.com/a-/AOh14Ggz536p806W0W9-wxWFfPdVV303PuNNPAhu9S1UjA=s64",
      "userId": "01966049699378036829"
     },
     "user_tz": -180
    },
    "id": "hfwSrFpMBFgX",
    "outputId": "1a44dd80-4915-4530-ad84-01604271b6c8"
   },
   "outputs": [
    {
     "data": {
      "text/plain": [
       "array([[ 1.335,  4.643, -1.773, ..., -1.555, -0.309, -1.076],\n",
       "       [ 4.643, -1.773,  1.913, ..., -0.309, -1.076,  3.631],\n",
       "       [-1.773,  1.913, -5.918, ..., -1.076,  3.631, -0.678],\n",
       "       ...,\n",
       "       [-3.61 ,  1.972,  1.641, ...,  0.337,  2.503,  3.455],\n",
       "       [ 1.972,  1.641, -0.316, ...,  2.503,  3.455, -3.803],\n",
       "       [ 1.641, -0.316,  8.903, ...,  3.455, -3.803,  1.491]],\n",
       "      dtype=float32)"
      ]
     },
     "execution_count": 37,
     "metadata": {},
     "output_type": "execute_result"
    }
   ],
   "source": [
    "supervised_raw"
   ]
  },
  {
   "cell_type": "code",
   "execution_count": 38,
   "metadata": {
    "colab": {},
    "colab_type": "code",
    "id": "IDcbKb7AEIZQ"
   },
   "outputs": [],
   "source": [
    "scaler, train_scaled, test_scaled = scale(xtrain.values.reshape(len(xtrain), 1), xtest.values.reshape(len(xtest), 1))"
   ]
  },
  {
   "cell_type": "code",
   "execution_count": 39,
   "metadata": {
    "colab": {},
    "colab_type": "code",
    "id": "rSVL2sdWEIfy"
   },
   "outputs": [],
   "source": [
    "values_scaled = np.concatenate((train_scaled, test_scaled))"
   ]
  },
  {
   "cell_type": "code",
   "execution_count": 40,
   "metadata": {
    "colab": {},
    "colab_type": "code",
    "id": "Mc18imj9EIk1"
   },
   "outputs": [],
   "source": [
    "supervised = timeseries_to_supervised(values_scaled, 12)\n",
    "\n",
    "supervised_values = supervised.values.astype('float32')\n",
    "\n",
    "##split supervised data into train and test-sets\n",
    "supervised_train, supervised_test = supervised_raw[0:-9], supervised_raw[-9:]\n",
    "train_scaled, test_scaled = supervised_values[0:-9], supervised_values[-9:]"
   ]
  },
  {
   "cell_type": "code",
   "execution_count": 41,
   "metadata": {
    "colab": {
     "base_uri": "https://localhost:8080/",
     "height": 238
    },
    "colab_type": "code",
    "executionInfo": {
     "elapsed": 460,
     "status": "ok",
     "timestamp": 1584302759097,
     "user": {
      "displayName": "Eser İnan Arslan",
      "photoUrl": "https://lh3.googleusercontent.com/a-/AOh14Ggz536p806W0W9-wxWFfPdVV303PuNNPAhu9S1UjA=s64",
      "userId": "01966049699378036829"
     },
     "user_tz": -180
    },
    "id": "-5YXAuV40_UK",
    "outputId": "fee14616-0cd1-4b15-c1b1-56b48a24e6ff"
   },
   "outputs": [
    {
     "data": {
      "text/plain": [
       "array([[0.3717777 , 0.49137712, 0.25940922, ..., 0.26729095, 0.31233957,\n",
       "        0.284609  ],\n",
       "       [0.49137712, 0.25940922, 0.39267507, ..., 0.31233957, 0.284609  ,\n",
       "        0.45478868],\n",
       "       [0.25940922, 0.39267507, 0.10954843, ..., 0.284609  , 0.45478868,\n",
       "        0.2989985 ],\n",
       "       ...,\n",
       "       [0.347988  , 0.27040023, 0.36592066, ..., 0.3948082 , 0.38284102,\n",
       "        0.3120865 ],\n",
       "       [0.27040023, 0.36592066, 0.40001446, ..., 0.38284102, 0.3120865 ,\n",
       "        0.6453957 ],\n",
       "       [0.36592066, 0.40001446, 0.25351605, ..., 0.3120865 , 0.6453957 ,\n",
       "        0.3558697 ]], dtype=float32)"
      ]
     },
     "execution_count": 41,
     "metadata": {},
     "output_type": "execute_result"
    }
   ],
   "source": [
    "train_scaled"
   ]
  },
  {
   "cell_type": "code",
   "execution_count": 42,
   "metadata": {
    "colab": {},
    "colab_type": "code",
    "id": "2yRfd9SjEInB"
   },
   "outputs": [],
   "source": [
    "train_X, train_y = train_scaled[:, :-1], train_scaled[:, -1]\n",
    "test_X, test_y = test_scaled[:, :-1], test_scaled[:, -1]"
   ]
  },
  {
   "cell_type": "code",
   "execution_count": 43,
   "metadata": {
    "colab": {
     "base_uri": "https://localhost:8080/",
     "height": 1000
    },
    "colab_type": "code",
    "executionInfo": {
     "elapsed": 594,
     "status": "ok",
     "timestamp": 1584302760932,
     "user": {
      "displayName": "Eser İnan Arslan",
      "photoUrl": "https://lh3.googleusercontent.com/a-/AOh14Ggz536p806W0W9-wxWFfPdVV303PuNNPAhu9S1UjA=s64",
      "userId": "01966049699378036829"
     },
     "user_tz": -180
    },
    "id": "d--SBz-F1F4l",
    "outputId": "1b0642dc-0581-425d-a3e1-ab608c4a487f"
   },
   "outputs": [
    {
     "data": {
      "text/plain": [
       "array([[0.284609  ],\n",
       "       [0.45478868],\n",
       "       [0.2989985 ],\n",
       "       [0.44444847],\n",
       "       [0.38670957],\n",
       "       [0.20355038],\n",
       "       [0.1784591 ],\n",
       "       [0.20821433],\n",
       "       [0.33992553],\n",
       "       [0.22889476],\n",
       "       [0.30854332],\n",
       "       [0.4746014 ],\n",
       "       [0.2753534 ],\n",
       "       [0.37763476],\n",
       "       [0.27795655],\n",
       "       [0.39068657],\n",
       "       [0.31700352],\n",
       "       [0.27784806],\n",
       "       [0.355472  ],\n",
       "       [0.26114467],\n",
       "       [0.4998373 ],\n",
       "       [0.19765718],\n",
       "       [0.27220798],\n",
       "       [0.26671246],\n",
       "       [0.34484255],\n",
       "       [0.23319715],\n",
       "       [0.13604975],\n",
       "       [0.3625583 ],\n",
       "       [0.14082216],\n",
       "       [0.35384503],\n",
       "       [0.32510215],\n",
       "       [0.28019813],\n",
       "       [0.25731227],\n",
       "       [0.34856647],\n",
       "       [0.31703967],\n",
       "       [0.30268627],\n",
       "       [0.33034456],\n",
       "       [0.36939153],\n",
       "       [0.34325173],\n",
       "       [0.32445136],\n",
       "       [0.35297734],\n",
       "       [0.32206514],\n",
       "       [0.30941105],\n",
       "       [0.32571676],\n",
       "       [0.35894284],\n",
       "       [0.2517806 ],\n",
       "       [0.34986803],\n",
       "       [0.23543873],\n",
       "       [0.33869627],\n",
       "       [0.2922376 ],\n",
       "       [0.31765428],\n",
       "       [0.34802416],\n",
       "       [0.3042771 ],\n",
       "       [0.34668642],\n",
       "       [0.30756715],\n",
       "       [0.31201416],\n",
       "       [0.3955313 ],\n",
       "       [0.29715464],\n",
       "       [0.33377925],\n",
       "       [0.37940633],\n",
       "       [0.32788604],\n",
       "       [0.276655  ],\n",
       "       [0.34498715],\n",
       "       [0.29809466],\n",
       "       [0.34364945],\n",
       "       [0.34661412],\n",
       "       [0.31591886],\n",
       "       [0.31913662],\n",
       "       [0.3338877 ],\n",
       "       [0.362016  ],\n",
       "       [0.31042337],\n",
       "       [0.26964098],\n",
       "       [0.44647312],\n",
       "       [0.29531074],\n",
       "       [0.34270942],\n",
       "       [0.3319715 ],\n",
       "       [0.32915145],\n",
       "       [0.32492137],\n",
       "       [0.34545717],\n",
       "       [0.31299034],\n",
       "       [0.2826205 ],\n",
       "       [0.40243682],\n",
       "       [0.22987093],\n",
       "       [0.4007014 ],\n",
       "       [0.20626198],\n",
       "       [0.33146533],\n",
       "       [0.2918399 ],\n",
       "       [0.26624244],\n",
       "       [0.34947035],\n",
       "       [0.29353917],\n",
       "       [0.3858057 ],\n",
       "       [0.33562312],\n",
       "       [0.27723345],\n",
       "       [0.37015077],\n",
       "       [0.37796015],\n",
       "       [0.30857947],\n",
       "       [0.26418164],\n",
       "       [0.30876026],\n",
       "       [0.3042771 ],\n",
       "       [0.3687046 ],\n",
       "       [0.29444304],\n",
       "       [0.28757367],\n",
       "       [0.30286705],\n",
       "       [0.34166095],\n",
       "       [0.5008496 ],\n",
       "       [0.34900033],\n",
       "       [0.3100618 ],\n",
       "       [0.23710185],\n",
       "       [0.38085252],\n",
       "       [0.33876857],\n",
       "       [0.3633537 ],\n",
       "       [0.3646914 ],\n",
       "       [0.24664666],\n",
       "       [0.29870927],\n",
       "       [0.41035467],\n",
       "       [0.21258903],\n",
       "       [0.27745038],\n",
       "       [0.32734373],\n",
       "       [0.31834123],\n",
       "       [0.32495752],\n",
       "       [0.26935175],\n",
       "       [0.28207818],\n",
       "       [0.27904117],\n",
       "       [0.30995336],\n",
       "       [0.39661592],\n",
       "       [0.3922412 ],\n",
       "       [0.2536968 ],\n",
       "       [0.33584005],\n",
       "       [0.20778047],\n",
       "       [0.39245814],\n",
       "       [0.32155898],\n",
       "       [0.35323042],\n",
       "       [0.34198633],\n",
       "       [0.31403884],\n",
       "       [0.46841896],\n",
       "       [0.33305615],\n",
       "       [0.26360318],\n",
       "       [0.32806683],\n",
       "       [0.15470552],\n",
       "       [0.33678007],\n",
       "       [0.31570193],\n",
       "       [0.30189088],\n",
       "       [0.29889005],\n",
       "       [0.3185943 ],\n",
       "       [0.31790736],\n",
       "       [0.26067466],\n",
       "       [0.3837449 ],\n",
       "       [0.29476842],\n",
       "       [0.4087277 ],\n",
       "       [0.27896887],\n",
       "       [0.37383854],\n",
       "       [0.26848403],\n",
       "       [0.19263169],\n",
       "       [0.42893815],\n",
       "       [0.31259266],\n",
       "       [0.35709897],\n",
       "       [0.16920352],\n",
       "       [0.30463862],\n",
       "       [0.28529593],\n",
       "       [0.4415561 ],\n",
       "       [0.25293756],\n",
       "       [0.43602443],\n",
       "       [0.04465093],\n",
       "       [1.        ],\n",
       "       [0.38305795],\n",
       "       [0.33471927],\n",
       "       [0.33988938],\n",
       "       [0.66676307],\n",
       "       [0.42318955],\n",
       "       [0.28178892],\n",
       "       [0.26161465],\n",
       "       [0.3475903 ],\n",
       "       [0.33811778],\n",
       "       [0.19165552],\n",
       "       [0.33471927],\n",
       "       [0.38952962],\n",
       "       [0.3873965 ],\n",
       "       [0.28439206],\n",
       "       [0.7015438 ],\n",
       "       [0.48743626],\n",
       "       [0.47272137],\n",
       "       [0.14678766],\n",
       "       [0.26830328],\n",
       "       [0.1848223 ],\n",
       "       [0.37148848],\n",
       "       [0.5545754 ],\n",
       "       [0.18496692],\n",
       "       [0.3786471 ],\n",
       "       [0.3913012 ],\n",
       "       [0.54853755],\n",
       "       [0.23804186],\n",
       "       [0.3448064 ],\n",
       "       [0.15481399],\n",
       "       [0.2358726 ],\n",
       "       [0.42919123],\n",
       "       [0.30868796],\n",
       "       [0.24125962],\n",
       "       [0.29661232],\n",
       "       [0.28623596],\n",
       "       [0.16081564],\n",
       "       [0.38287717],\n",
       "       [0.3324777 ],\n",
       "       [0.3523627 ],\n",
       "       [0.22564083],\n",
       "       [0.32079974],\n",
       "       [0.02877906],\n",
       "       [0.3499765 ],\n",
       "       [0.252106  ],\n",
       "       [0.23966883],\n",
       "       [0.21566217],\n",
       "       [0.36393216],\n",
       "       [0.32690987],\n",
       "       [0.46180266],\n",
       "       [0.29776925],\n",
       "       [0.30915797],\n",
       "       [0.3409017 ],\n",
       "       [0.3816841 ],\n",
       "       [0.3876496 ],\n",
       "       [0.19942875],\n",
       "       [0.34332407],\n",
       "       [0.33649084],\n",
       "       [0.        ],\n",
       "       [0.38830036],\n",
       "       [0.25319064],\n",
       "       [0.30926642],\n",
       "       [0.16949275],\n",
       "       [0.34484255],\n",
       "       [0.36060596],\n",
       "       [0.3010232 ],\n",
       "       [0.23963267],\n",
       "       [0.3017101 ],\n",
       "       [0.29903468],\n",
       "       [0.22871397],\n",
       "       [0.3983875 ],\n",
       "       [0.31121877],\n",
       "       [0.36465526],\n",
       "       [0.34979573],\n",
       "       [0.30901334],\n",
       "       [0.26179543],\n",
       "       [0.28894755],\n",
       "       [0.3240175 ],\n",
       "       [0.33359846],\n",
       "       [0.33457464],\n",
       "       [0.36498067],\n",
       "       [0.24556202],\n",
       "       [0.33866012],\n",
       "       [0.30695254],\n",
       "       [0.3646914 ],\n",
       "       [0.18641311],\n",
       "       [0.43190283],\n",
       "       [0.44961858],\n",
       "       [0.31631657],\n",
       "       [0.36570376],\n",
       "       [0.2936838 ],\n",
       "       [0.34267327],\n",
       "       [0.32224593],\n",
       "       [0.33725008],\n",
       "       [0.3641491 ],\n",
       "       [0.30988106],\n",
       "       [0.32745218],\n",
       "       [0.30369863],\n",
       "       [0.32087204],\n",
       "       [0.33909395],\n",
       "       [0.33996168],\n",
       "       [0.392422  ],\n",
       "       [0.32372826],\n",
       "       [0.36299217],\n",
       "       [0.26002386],\n",
       "       [0.35478505],\n",
       "       [0.29795003],\n",
       "       [0.27296722],\n",
       "       [0.2726418 ],\n",
       "       [0.46697277],\n",
       "       [0.2961423 ],\n",
       "       [0.44108608],\n",
       "       [0.48092845],\n",
       "       [0.32763296],\n",
       "       [0.35648432],\n",
       "       [0.43783218],\n",
       "       [0.28981525],\n",
       "       [0.30445787],\n",
       "       [0.37517625],\n",
       "       [0.38996348],\n",
       "       [0.34148017],\n",
       "       [0.3369247 ],\n",
       "       [0.38942116],\n",
       "       [0.26483244],\n",
       "       [0.26418164],\n",
       "       [0.36028057],\n",
       "       [0.42221338],\n",
       "       [0.28876677],\n",
       "       [0.25861382],\n",
       "       [0.21342058],\n",
       "       [0.31928125],\n",
       "       [0.3267291 ],\n",
       "       [0.32564446],\n",
       "       [0.3073864 ],\n",
       "       [0.38905963],\n",
       "       [0.25214216],\n",
       "       [0.39578438],\n",
       "       [0.21255288],\n",
       "       [0.33066994],\n",
       "       [0.05835352],\n",
       "       [0.3177266 ],\n",
       "       [0.46635816],\n",
       "       [0.37279004],\n",
       "       [0.32734373],\n",
       "       [0.28233126],\n",
       "       [0.30471095],\n",
       "       [0.38605878],\n",
       "       [0.23352255],\n",
       "       [0.40066525],\n",
       "       [0.40377453],\n",
       "       [0.31147185],\n",
       "       [0.29668462],\n",
       "       [0.3263314 ],\n",
       "       [0.38269642],\n",
       "       [0.38479337],\n",
       "       [0.2458151 ],\n",
       "       [0.3410463 ],\n",
       "       [0.21873531],\n",
       "       [0.40352145],\n",
       "       [0.3099172 ],\n",
       "       [0.32412598],\n",
       "       [0.31834123],\n",
       "       [0.29903468],\n",
       "       [0.3358762 ],\n",
       "       [0.24928595],\n",
       "       [0.3795871 ],\n",
       "       [0.33710545],\n",
       "       [0.30152935],\n",
       "       [0.4021476 ],\n",
       "       [0.24480277],\n",
       "       [0.7368307 ],\n",
       "       [0.5245309 ],\n",
       "       [0.3582559 ],\n",
       "       [0.392892  ],\n",
       "       [0.37843016],\n",
       "       [0.36353448],\n",
       "       [0.19165552],\n",
       "       [0.2694602 ],\n",
       "       [0.2323656 ],\n",
       "       [0.33909395],\n",
       "       [0.26848403],\n",
       "       [0.33258614],\n",
       "       [0.34390253],\n",
       "       [0.35970208],\n",
       "       [0.29191223],\n",
       "       [0.3428902 ],\n",
       "       [0.26360318],\n",
       "       [0.18355688],\n",
       "       [0.33475542],\n",
       "       [0.38927653],\n",
       "       [0.39502513],\n",
       "       [0.24816516],\n",
       "       [0.28619978],\n",
       "       [0.2642178 ],\n",
       "       [0.32145053],\n",
       "       [0.3004447 ],\n",
       "       [0.44383383],\n",
       "       [0.5400412 ],\n",
       "       [0.347988  ],\n",
       "       [0.27040023],\n",
       "       [0.36592066],\n",
       "       [0.40001446],\n",
       "       [0.25351605],\n",
       "       [0.31497884],\n",
       "       [0.39115658],\n",
       "       [0.3963267 ],\n",
       "       [0.29433456],\n",
       "       [0.19299324],\n",
       "       [0.3948082 ],\n",
       "       [0.38284102],\n",
       "       [0.3120865 ],\n",
       "       [0.6453957 ],\n",
       "       [0.3558697 ]], dtype=float32)"
      ]
     },
     "execution_count": 43,
     "metadata": {},
     "output_type": "execute_result"
    }
   ],
   "source": [
    "train_y.reshape(train_y.shape[0], 1)"
   ]
  },
  {
   "cell_type": "code",
   "execution_count": 44,
   "metadata": {
    "colab": {},
    "colab_type": "code",
    "id": "LmS1IfJ8EIpc"
   },
   "outputs": [],
   "source": [
    "# prepare train dataset for lstm\n",
    "train_X_lstm = train_X.reshape((train_X.shape[0], 1, train_X.shape[1]))\n",
    "test_X_lstm = test_X.reshape((test_X.shape[0], 1, test_X.shape[1]))"
   ]
  },
  {
   "cell_type": "code",
   "execution_count": 45,
   "metadata": {
    "colab": {},
    "colab_type": "code",
    "id": "O561kIlwyUJy"
   },
   "outputs": [],
   "source": [
    "# prepare test dataset for lstm\n",
    "train_Y_lstm = train_y.reshape((train_y.shape[0], 1, 1))\n",
    "test_Y_lstm = test_y.reshape((test_y.shape[0], 1, 1))"
   ]
  },
  {
   "cell_type": "code",
   "execution_count": 46,
   "metadata": {
    "colab": {
     "base_uri": "https://localhost:8080/",
     "height": 51
    },
    "colab_type": "code",
    "executionInfo": {
     "elapsed": 625,
     "status": "ok",
     "timestamp": 1584302764116,
     "user": {
      "displayName": "Eser İnan Arslan",
      "photoUrl": "https://lh3.googleusercontent.com/a-/AOh14Ggz536p806W0W9-wxWFfPdVV303PuNNPAhu9S1UjA=s64",
      "userId": "01966049699378036829"
     },
     "user_tz": -180
    },
    "id": "nCUfhxq4jJuy",
    "outputId": "bba2fadc-1dea-4313-a46a-badd0036d6d8"
   },
   "outputs": [
    {
     "data": {
      "text/plain": [
       "array([0.47991613, 0.15738097, 0.28081277, 0.536028  , 0.33569545,\n",
       "       0.4140063 , 0.44842547, 0.1860154 , 0.37741783], dtype=float32)"
      ]
     },
     "execution_count": 46,
     "metadata": {},
     "output_type": "execute_result"
    }
   ],
   "source": [
    "test_scaled[:, -1]"
   ]
  },
  {
   "cell_type": "code",
   "execution_count": 47,
   "metadata": {
    "colab": {
     "base_uri": "https://localhost:8080/",
     "height": 306
    },
    "colab_type": "code",
    "executionInfo": {
     "elapsed": 792,
     "status": "ok",
     "timestamp": 1584302765037,
     "user": {
      "displayName": "Eser İnan Arslan",
      "photoUrl": "https://lh3.googleusercontent.com/a-/AOh14Ggz536p806W0W9-wxWFfPdVV303PuNNPAhu9S1UjA=s64",
      "userId": "01966049699378036829"
     },
     "user_tz": -180
    },
    "id": "zQ7imYXRshGX",
    "outputId": "f1f867b2-5b6e-45be-c077-ea641c2652ab"
   },
   "outputs": [
    {
     "data": {
      "text/plain": [
       "array([0.284609  , 0.45478868, 0.2989985 , 0.44444847, 0.38670957,\n",
       "       0.20355038, 0.1784591 , 0.20821433, 0.33992553, 0.22889476,\n",
       "       0.30854332, 0.4746014 , 0.2753534 , 0.37763476, 0.27795655,\n",
       "       0.39068657, 0.31700352, 0.27784806, 0.355472  , 0.26114467,\n",
       "       0.4998373 , 0.19765718, 0.27220798, 0.26671246, 0.34484255,\n",
       "       0.23319715, 0.13604975, 0.3625583 , 0.14082216, 0.35384503,\n",
       "       0.32510215, 0.28019813, 0.25731227, 0.34856647, 0.31703967,\n",
       "       0.30268627, 0.33034456, 0.36939153, 0.34325173, 0.32445136,\n",
       "       0.35297734, 0.32206514, 0.30941105, 0.32571676, 0.35894284,\n",
       "       0.2517806 , 0.34986803, 0.23543873, 0.33869627, 0.2922376 ,\n",
       "       0.31765428, 0.34802416, 0.3042771 , 0.34668642, 0.30756715,\n",
       "       0.31201416, 0.3955313 , 0.29715464, 0.33377925, 0.37940633,\n",
       "       0.32788604, 0.276655  , 0.34498715, 0.29809466, 0.34364945,\n",
       "       0.34661412, 0.31591886, 0.31913662, 0.3338877 , 0.362016  ,\n",
       "       0.31042337, 0.26964098, 0.44647312, 0.29531074, 0.34270942,\n",
       "       0.3319715 , 0.32915145, 0.32492137, 0.34545717, 0.31299034,\n",
       "       0.2826205 , 0.40243682, 0.22987093, 0.4007014 , 0.20626198,\n",
       "       0.33146533, 0.2918399 , 0.26624244, 0.34947035, 0.29353917,\n",
       "       0.3858057 , 0.33562312, 0.27723345, 0.37015077, 0.37796015,\n",
       "       0.30857947, 0.26418164, 0.30876026, 0.3042771 , 0.3687046 ,\n",
       "       0.29444304, 0.28757367, 0.30286705, 0.34166095, 0.5008496 ,\n",
       "       0.34900033, 0.3100618 , 0.23710185, 0.38085252, 0.33876857,\n",
       "       0.3633537 , 0.3646914 , 0.24664666, 0.29870927, 0.41035467,\n",
       "       0.21258903, 0.27745038, 0.32734373, 0.31834123, 0.32495752,\n",
       "       0.26935175, 0.28207818, 0.27904117, 0.30995336, 0.39661592,\n",
       "       0.3922412 , 0.2536968 , 0.33584005, 0.20778047, 0.39245814,\n",
       "       0.32155898, 0.35323042, 0.34198633, 0.31403884, 0.46841896,\n",
       "       0.33305615, 0.26360318, 0.32806683, 0.15470552, 0.33678007,\n",
       "       0.31570193, 0.30189088, 0.29889005, 0.3185943 , 0.31790736,\n",
       "       0.26067466, 0.3837449 , 0.29476842, 0.4087277 , 0.27896887,\n",
       "       0.37383854, 0.26848403, 0.19263169, 0.42893815, 0.31259266,\n",
       "       0.35709897, 0.16920352, 0.30463862, 0.28529593, 0.4415561 ,\n",
       "       0.25293756, 0.43602443, 0.04465093, 1.        , 0.38305795,\n",
       "       0.33471927, 0.33988938, 0.66676307, 0.42318955, 0.28178892,\n",
       "       0.26161465, 0.3475903 , 0.33811778, 0.19165552, 0.33471927,\n",
       "       0.38952962, 0.3873965 , 0.28439206, 0.7015438 , 0.48743626,\n",
       "       0.47272137, 0.14678766, 0.26830328, 0.1848223 , 0.37148848,\n",
       "       0.5545754 , 0.18496692, 0.3786471 , 0.3913012 , 0.54853755,\n",
       "       0.23804186, 0.3448064 , 0.15481399, 0.2358726 , 0.42919123,\n",
       "       0.30868796, 0.24125962, 0.29661232, 0.28623596, 0.16081564,\n",
       "       0.38287717, 0.3324777 , 0.3523627 , 0.22564083, 0.32079974,\n",
       "       0.02877906, 0.3499765 , 0.252106  , 0.23966883, 0.21566217,\n",
       "       0.36393216, 0.32690987, 0.46180266, 0.29776925, 0.30915797,\n",
       "       0.3409017 , 0.3816841 , 0.3876496 , 0.19942875, 0.34332407,\n",
       "       0.33649084, 0.        , 0.38830036, 0.25319064, 0.30926642,\n",
       "       0.16949275, 0.34484255, 0.36060596, 0.3010232 , 0.23963267,\n",
       "       0.3017101 , 0.29903468, 0.22871397, 0.3983875 , 0.31121877,\n",
       "       0.36465526, 0.34979573, 0.30901334, 0.26179543, 0.28894755,\n",
       "       0.3240175 , 0.33359846, 0.33457464, 0.36498067, 0.24556202,\n",
       "       0.33866012, 0.30695254, 0.3646914 , 0.18641311, 0.43190283,\n",
       "       0.44961858, 0.31631657, 0.36570376, 0.2936838 , 0.34267327,\n",
       "       0.32224593, 0.33725008, 0.3641491 , 0.30988106, 0.32745218,\n",
       "       0.30369863, 0.32087204, 0.33909395, 0.33996168, 0.392422  ,\n",
       "       0.32372826, 0.36299217, 0.26002386, 0.35478505, 0.29795003,\n",
       "       0.27296722, 0.2726418 , 0.46697277, 0.2961423 , 0.44108608,\n",
       "       0.48092845, 0.32763296, 0.35648432, 0.43783218, 0.28981525,\n",
       "       0.30445787, 0.37517625, 0.38996348, 0.34148017, 0.3369247 ,\n",
       "       0.38942116, 0.26483244, 0.26418164, 0.36028057, 0.42221338,\n",
       "       0.28876677, 0.25861382, 0.21342058, 0.31928125, 0.3267291 ,\n",
       "       0.32564446, 0.3073864 , 0.38905963, 0.25214216, 0.39578438,\n",
       "       0.21255288, 0.33066994, 0.05835352, 0.3177266 , 0.46635816,\n",
       "       0.37279004, 0.32734373, 0.28233126, 0.30471095, 0.38605878,\n",
       "       0.23352255, 0.40066525, 0.40377453, 0.31147185, 0.29668462,\n",
       "       0.3263314 , 0.38269642, 0.38479337, 0.2458151 , 0.3410463 ,\n",
       "       0.21873531, 0.40352145, 0.3099172 , 0.32412598, 0.31834123,\n",
       "       0.29903468, 0.3358762 , 0.24928595, 0.3795871 , 0.33710545,\n",
       "       0.30152935, 0.4021476 , 0.24480277, 0.7368307 , 0.5245309 ,\n",
       "       0.3582559 , 0.392892  , 0.37843016, 0.36353448, 0.19165552,\n",
       "       0.2694602 , 0.2323656 , 0.33909395, 0.26848403, 0.33258614,\n",
       "       0.34390253, 0.35970208, 0.29191223, 0.3428902 , 0.26360318,\n",
       "       0.18355688, 0.33475542, 0.38927653, 0.39502513, 0.24816516,\n",
       "       0.28619978, 0.2642178 , 0.32145053, 0.3004447 , 0.44383383,\n",
       "       0.5400412 , 0.347988  , 0.27040023, 0.36592066, 0.40001446,\n",
       "       0.25351605, 0.31497884, 0.39115658, 0.3963267 , 0.29433456,\n",
       "       0.19299324, 0.3948082 , 0.38284102, 0.3120865 , 0.6453957 ,\n",
       "       0.3558697 ], dtype=float32)"
      ]
     },
     "execution_count": 47,
     "metadata": {},
     "output_type": "execute_result"
    }
   ],
   "source": [
    "train_y"
   ]
  },
  {
   "cell_type": "code",
   "execution_count": 48,
   "metadata": {
    "colab": {
     "base_uri": "https://localhost:8080/",
     "height": 34
    },
    "colab_type": "code",
    "executionInfo": {
     "elapsed": 463,
     "status": "ok",
     "timestamp": 1584302765991,
     "user": {
      "displayName": "Eser İnan Arslan",
      "photoUrl": "https://lh3.googleusercontent.com/a-/AOh14Ggz536p806W0W9-wxWFfPdVV303PuNNPAhu9S1UjA=s64",
      "userId": "01966049699378036829"
     },
     "user_tz": -180
    },
    "id": "7Hrk4SB-z4Va",
    "outputId": "ec07430a-0fef-4891-9ea2-07e1696e5e91"
   },
   "outputs": [
    {
     "data": {
      "text/plain": [
       "(376,)"
      ]
     },
     "execution_count": 48,
     "metadata": {},
     "output_type": "execute_result"
    }
   ],
   "source": [
    "train_y.shape"
   ]
  },
  {
   "cell_type": "code",
   "execution_count": null,
   "metadata": {
    "colab": {},
    "colab_type": "code",
    "id": "yjfVQZ87jAve"
   },
   "outputs": [],
   "source": []
  },
  {
   "cell_type": "markdown",
   "metadata": {
    "colab_type": "text",
    "id": "iO-Gs_cxaNOw"
   },
   "source": [
    "# **XGBRegressor**"
   ]
  },
  {
   "cell_type": "code",
   "execution_count": 49,
   "metadata": {
    "colab": {
     "base_uri": "https://localhost:8080/",
     "height": 1000
    },
    "colab_type": "code",
    "executionInfo": {
     "elapsed": 156906,
     "status": "ok",
     "timestamp": 1584302924508,
     "user": {
      "displayName": "Eser İnan Arslan",
      "photoUrl": "https://lh3.googleusercontent.com/a-/AOh14Ggz536p806W0W9-wxWFfPdVV303PuNNPAhu9S1UjA=s64",
      "userId": "01966049699378036829"
     },
     "user_tz": -180
    },
    "id": "acv77EuVEIra",
    "outputId": "743cd5ab-9e4c-4f23-f63e-3c95b5f74c7d"
   },
   "outputs": [
    {
     "name": "stdout",
     "output_type": "stream",
     "text": [
      "Process started at :  2020-09-03 14:03:30.107980\n",
      "Fitting 5 folds for each of 360 candidates, totalling 1800 fits\n"
     ]
    },
    {
     "name": "stderr",
     "output_type": "stream",
     "text": [
      "[Parallel(n_jobs=-1)]: Using backend LokyBackend with 16 concurrent workers.\n",
      "[Parallel(n_jobs=-1)]: Done  18 tasks      | elapsed:    2.1s\n",
      "[Parallel(n_jobs=-1)]: Done 506 tasks      | elapsed:    5.1s\n",
      "[Parallel(n_jobs=-1)]: Done 1402 tasks      | elapsed:   13.7s\n"
     ]
    },
    {
     "name": "stdout",
     "output_type": "stream",
     "text": [
      "[0]\tvalidation_0-rmse:0.18140\n",
      "Will train until validation_0-rmse hasn't improved in 50 rounds.\n",
      "[1]\tvalidation_0-rmse:0.16826\n",
      "[2]\tvalidation_0-rmse:0.15679\n",
      "[3]\tvalidation_0-rmse:0.14681\n",
      "[4]\tvalidation_0-rmse:0.13817\n",
      "[5]\tvalidation_0-rmse:0.13073\n",
      "[6]\tvalidation_0-rmse:0.12436\n",
      "[7]\tvalidation_0-rmse:0.11892\n",
      "[8]\tvalidation_0-rmse:0.11431\n",
      "[9]\tvalidation_0-rmse:0.11042\n",
      "[10]\tvalidation_0-rmse:0.10714\n",
      "[11]\tvalidation_0-rmse:0.10440\n",
      "[12]\tvalidation_0-rmse:0.10211\n",
      "[13]\tvalidation_0-rmse:0.10020\n",
      "[14]\tvalidation_0-rmse:0.09862\n",
      "[15]\tvalidation_0-rmse:0.09731\n",
      "[16]\tvalidation_0-rmse:0.09622\n",
      "[17]\tvalidation_0-rmse:0.09533\n",
      "[18]\tvalidation_0-rmse:0.09459\n",
      "[19]\tvalidation_0-rmse:0.09398\n",
      "[20]\tvalidation_0-rmse:0.09348\n",
      "[21]\tvalidation_0-rmse:0.09306\n",
      "[22]\tvalidation_0-rmse:0.09272\n",
      "[23]\tvalidation_0-rmse:0.09243\n",
      "[24]\tvalidation_0-rmse:0.09220\n",
      "[25]\tvalidation_0-rmse:0.09201\n",
      "[26]\tvalidation_0-rmse:0.09185\n",
      "[27]\tvalidation_0-rmse:0.09171\n",
      "[28]\tvalidation_0-rmse:0.09160\n",
      "[29]\tvalidation_0-rmse:0.09151\n",
      "[30]\tvalidation_0-rmse:0.09143\n",
      "[31]\tvalidation_0-rmse:0.09137\n",
      "[32]\tvalidation_0-rmse:0.09131\n",
      "[33]\tvalidation_0-rmse:0.09127\n",
      "[34]\tvalidation_0-rmse:0.09123\n",
      "[35]\tvalidation_0-rmse:0.09120\n",
      "[36]\tvalidation_0-rmse:0.09117\n",
      "[37]\tvalidation_0-rmse:0.09115\n",
      "[38]\tvalidation_0-rmse:0.09113\n",
      "[39]\tvalidation_0-rmse:0.09111\n",
      "[40]\tvalidation_0-rmse:0.09110\n",
      "[41]\tvalidation_0-rmse:0.09109\n",
      "[42]\tvalidation_0-rmse:0.09108\n",
      "[43]\tvalidation_0-rmse:0.09107\n",
      "[44]\tvalidation_0-rmse:0.09106\n",
      "[45]\tvalidation_0-rmse:0.09105\n",
      "[46]\tvalidation_0-rmse:0.09105\n",
      "[47]\tvalidation_0-rmse:0.09104\n",
      "[48]\tvalidation_0-rmse:0.09104\n",
      "[49]\tvalidation_0-rmse:0.09103\n",
      "[50]\tvalidation_0-rmse:0.09103\n",
      "[51]\tvalidation_0-rmse:0.09103\n",
      "[52]\tvalidation_0-rmse:0.09102\n",
      "[53]\tvalidation_0-rmse:0.09102\n",
      "[54]\tvalidation_0-rmse:0.09102\n",
      "[55]\tvalidation_0-rmse:0.09102\n",
      "[56]\tvalidation_0-rmse:0.09101\n",
      "[57]\tvalidation_0-rmse:0.09101\n",
      "[58]\tvalidation_0-rmse:0.09101\n",
      "[59]\tvalidation_0-rmse:0.09101\n",
      "[60]\tvalidation_0-rmse:0.09101\n",
      "[61]\tvalidation_0-rmse:0.09101\n",
      "[62]\tvalidation_0-rmse:0.09101\n",
      "[63]\tvalidation_0-rmse:0.09101\n",
      "[64]\tvalidation_0-rmse:0.09101\n",
      "[65]\tvalidation_0-rmse:0.09101\n",
      "[66]\tvalidation_0-rmse:0.09101\n",
      "[67]\tvalidation_0-rmse:0.09101\n",
      "[68]\tvalidation_0-rmse:0.09101\n",
      "[69]\tvalidation_0-rmse:0.09101\n",
      "[70]\tvalidation_0-rmse:0.09101\n",
      "[71]\tvalidation_0-rmse:0.09100\n",
      "[72]\tvalidation_0-rmse:0.09100\n",
      "[73]\tvalidation_0-rmse:0.09100\n",
      "[74]\tvalidation_0-rmse:0.09100\n",
      "[75]\tvalidation_0-rmse:0.09100\n",
      "[76]\tvalidation_0-rmse:0.09100\n",
      "[77]\tvalidation_0-rmse:0.09100\n",
      "[78]\tvalidation_0-rmse:0.09100\n",
      "[79]\tvalidation_0-rmse:0.09100\n",
      "[80]\tvalidation_0-rmse:0.09100\n",
      "[81]\tvalidation_0-rmse:0.09100\n",
      "[82]\tvalidation_0-rmse:0.09100\n",
      "[83]\tvalidation_0-rmse:0.09100\n",
      "[84]\tvalidation_0-rmse:0.09100\n",
      "[85]\tvalidation_0-rmse:0.09100\n",
      "[86]\tvalidation_0-rmse:0.09100\n",
      "[87]\tvalidation_0-rmse:0.09100\n",
      "[88]\tvalidation_0-rmse:0.09100\n",
      "[89]\tvalidation_0-rmse:0.09100\n",
      "[90]\tvalidation_0-rmse:0.09100\n",
      "[91]\tvalidation_0-rmse:0.09100\n",
      "[92]\tvalidation_0-rmse:0.09100\n",
      "[93]\tvalidation_0-rmse:0.09100\n",
      "[94]\tvalidation_0-rmse:0.09100\n",
      "[95]\tvalidation_0-rmse:0.09100\n",
      "[96]\tvalidation_0-rmse:0.09100\n",
      "[97]\tvalidation_0-rmse:0.09100\n",
      "[98]\tvalidation_0-rmse:0.09100\n",
      "[99]\tvalidation_0-rmse:0.09100\n",
      "Process finished at :  2020-09-03 14:03:47.564333\n",
      "Process took :  0:00:17.456353\n"
     ]
    },
    {
     "name": "stderr",
     "output_type": "stream",
     "text": [
      "[Parallel(n_jobs=-1)]: Done 1800 out of 1800 | elapsed:   17.3s finished\n",
      "/Library/Frameworks/Python.framework/Versions/3.6/lib/python3.6/site-packages/sklearn/model_selection/_search.py:814: DeprecationWarning:\n",
      "\n",
      "The default of the `iid` parameter will change from True to False in version 0.22 and will be removed in 0.24. This will change numeric results when test-set sizes are unequal.\n",
      "\n"
     ]
    }
   ],
   "source": [
    "# XGBRegressor Training\n",
    "now = datetime.now()\n",
    "print(\"Process started at : \",now)\n",
    "\n",
    "parameters = { 'gamma' : [0, 0.1, 0.3, 1], 'learning_rate' : [0.001, 0.01, 0.1], \n",
    "              'max_depth' : [2, 4, 6, 7, 12], \n",
    "              'n_estimators' : [10, 45, 90, 100, 150, 250],\n",
    "              'nthread' : [-1], 'reg_alpha' : [1], 'reg_lambda' : [1], 'seed' : [10] }\n",
    "\n",
    "bst = xgb.XGBRegressor()\n",
    "xgb_grid = GridSearchCV(bst,\n",
    "                        parameters,\n",
    "                        cv=5,\n",
    "                        n_jobs=-1,\n",
    "                        verbose=True,\n",
    "                        )\n",
    "xgb_grid.fit(train_X, train_y, eval_set=[(train_X, train_y)], early_stopping_rounds=50)\n",
    "\n",
    "end = datetime.now()\n",
    "print(\"Process finished at : \", end)\n",
    "print(\"Process took : \", end-now)"
   ]
  },
  {
   "cell_type": "code",
   "execution_count": 50,
   "metadata": {
    "colab": {
     "base_uri": "https://localhost:8080/",
     "height": 136
    },
    "colab_type": "code",
    "executionInfo": {
     "elapsed": 795,
     "status": "ok",
     "timestamp": 1584302947223,
     "user": {
      "displayName": "Eser İnan Arslan",
      "photoUrl": "https://lh3.googleusercontent.com/a-/AOh14Ggz536p806W0W9-wxWFfPdVV303PuNNPAhu9S1UjA=s64",
      "userId": "01966049699378036829"
     },
     "user_tz": -180
    },
    "id": "r9u0d_X-J0Y9",
    "outputId": "23d5c151-7847-4b88-9f40-ba6136f9ef50"
   },
   "outputs": [
    {
     "data": {
      "text/plain": [
       "XGBRegressor(base_score=0.5, booster='gbtree', colsample_bylevel=1,\n",
       "             colsample_bynode=1, colsample_bytree=1, gamma=0.3, gpu_id=-1,\n",
       "             importance_type='gain', interaction_constraints='',\n",
       "             learning_rate=0.1, max_delta_step=0, max_depth=2,\n",
       "             min_child_weight=1, missing=nan, monotone_constraints='()',\n",
       "             n_estimators=100, n_jobs=-1, nthread=-1, num_parallel_tree=1,\n",
       "             objective='reg:squarederror', random_state=10, reg_alpha=1,\n",
       "             reg_lambda=1, scale_pos_weight=1, seed=10, subsample=1,\n",
       "             tree_method='exact', validate_parameters=1, verbosity=None)"
      ]
     },
     "execution_count": 50,
     "metadata": {},
     "output_type": "execute_result"
    }
   ],
   "source": [
    "xgb_grid.best_estimator_"
   ]
  },
  {
   "cell_type": "code",
   "execution_count": 51,
   "metadata": {
    "colab": {},
    "colab_type": "code",
    "id": "6J3yShrOJMog"
   },
   "outputs": [],
   "source": [
    "# inverse scaling for a forecasted value\n",
    "def invert_scale(scaler, X, value):\n",
    "    new_row = [x for x in X] + [value]\n",
    "    array = np.array(new_row)\n",
    "    array = array.reshape(1, len(array))\n",
    "\n",
    "    inverted = scaler.inverse_transform(array)\n",
    "    ##print(\"converting %s to %s\" % (value,inverted[0, -1]))\n",
    "    return inverted[0, -1]"
   ]
  },
  {
   "cell_type": "code",
   "execution_count": 52,
   "metadata": {
    "colab": {},
    "colab_type": "code",
    "id": "EdHy7cMLJMtw"
   },
   "outputs": [],
   "source": [
    "# invert differenced value\n",
    "def inverse_difference(history, yhat, interval=1):\n",
    "    return yhat + history[-interval]"
   ]
  },
  {
   "cell_type": "code",
   "execution_count": null,
   "metadata": {
    "colab": {},
    "colab_type": "code",
    "id": "tYb7g7eArZvz"
   },
   "outputs": [],
   "source": []
  },
  {
   "cell_type": "code",
   "execution_count": 53,
   "metadata": {
    "colab": {},
    "colab_type": "code",
    "id": "PL6IzcAvAlXu"
   },
   "outputs": [],
   "source": [
    "def mean_absolute_percentage_error(y_true, y_pred): \n",
    "    return np.mean(np.abs((np.array(y_true) - np.array(y_pred)) / y_true)) * 100"
   ]
  },
  {
   "cell_type": "code",
   "execution_count": 54,
   "metadata": {
    "colab": {},
    "colab_type": "code",
    "id": "zHM5WwFwJMzU"
   },
   "outputs": [],
   "source": [
    "#Invert scale predictions to time series\n",
    "predictions = list()\n",
    "start = 9 # test period\n",
    "l = len(test_scaled) - start\n",
    "\n",
    "rmse = []\n",
    "mape = []\n",
    "\n",
    "for i in range(len(test_scaled)):\n",
    "    X1, y = test_scaled[l, 0:-1], test_scaled[l, -1]\n",
    "    X1 = X1[-12:] # ts_window\n",
    "\n",
    "    # prediction \n",
    "    # pred = predict()\n",
    "    X1 = X1.reshape((1,-1))\n",
    "    pred = xgb_grid.predict(X1)\n",
    "\n",
    "    yhat = invert_scale(scaler, X1[0], pred)\n",
    "        \n",
    "    l=l+1\n",
    "\n",
    "    yhat = inverse_difference(train['Price'], yhat, len(test_scaled) + 1 - i) # if not stationary \n",
    "\n",
    "    predictions.append(yhat)\n",
    "\n",
    "    rmse.append(sqrt(mean_squared_error([train['Price'][-9:][i]], [yhat])))\n",
    "    mape.append(mean_absolute_percentage_error([train['Price'][-9:][i]], [yhat]))"
   ]
  },
  {
   "cell_type": "code",
   "execution_count": 55,
   "metadata": {
    "colab": {
     "base_uri": "https://localhost:8080/",
     "height": 51
    },
    "colab_type": "code",
    "executionInfo": {
     "elapsed": 554,
     "status": "ok",
     "timestamp": 1584302953187,
     "user": {
      "displayName": "Eser İnan Arslan",
      "photoUrl": "https://lh3.googleusercontent.com/a-/AOh14Ggz536p806W0W9-wxWFfPdVV303PuNNPAhu9S1UjA=s64",
      "userId": "01966049699378036829"
     },
     "user_tz": -180
    },
    "id": "zHvW2Byn5Rbs",
    "outputId": "7acc293c-d5e7-4b21-d5a1-762a8174f1fe"
   },
   "outputs": [
    {
     "name": "stdout",
     "output_type": "stream",
     "text": [
      "Test RMSE: 3.0157624802125804\n",
      "Test MAPE: 3.331412908002431\n"
     ]
    }
   ],
   "source": [
    "print(\"Test RMSE:\", np.mean(rmse))\n",
    "print(\"Test MAPE:\", np.mean(mape))"
   ]
  },
  {
   "cell_type": "code",
   "execution_count": 56,
   "metadata": {
    "colab": {
     "base_uri": "https://localhost:8080/",
     "height": 170
    },
    "colab_type": "code",
    "executionInfo": {
     "elapsed": 681,
     "status": "ok",
     "timestamp": 1584302954078,
     "user": {
      "displayName": "Eser İnan Arslan",
      "photoUrl": "https://lh3.googleusercontent.com/a-/AOh14Ggz536p806W0W9-wxWFfPdVV303PuNNPAhu9S1UjA=s64",
      "userId": "01966049699378036829"
     },
     "user_tz": -180
    },
    "id": "e1XnnHs6JM2Z",
    "outputId": "2c6dc4e1-a087-40f2-b960-c492f145eed2"
   },
   "outputs": [
    {
     "data": {
      "text/plain": [
       "[85.92337922602893,\n",
       " 90.24937922602894,\n",
       " 85.65437922602892,\n",
       " 84.47337922602892,\n",
       " 90.35137922602893,\n",
       " 90.68837922602893,\n",
       " 93.19137922602891,\n",
       " 96.64637922602891,\n",
       " 92.84337922602893]"
      ]
     },
     "execution_count": 56,
     "metadata": {},
     "output_type": "execute_result"
    }
   ],
   "source": [
    "predictions"
   ]
  },
  {
   "cell_type": "code",
   "execution_count": 57,
   "metadata": {
    "colab": {},
    "colab_type": "code",
    "id": "xGhHOK80EIX1"
   },
   "outputs": [],
   "source": [
    "result_df = pd.read_csv(\"data/Litecoin_Historica_Data.csv\")"
   ]
  },
  {
   "cell_type": "code",
   "execution_count": 58,
   "metadata": {
    "colab": {},
    "colab_type": "code",
    "id": "n1Npvu1PYqST"
   },
   "outputs": [],
   "source": [
    "result_df = result_df[-9:]"
   ]
  },
  {
   "cell_type": "code",
   "execution_count": 59,
   "metadata": {
    "colab": {
     "base_uri": "https://localhost:8080/",
     "height": 328
    },
    "colab_type": "code",
    "executionInfo": {
     "elapsed": 701,
     "status": "ok",
     "timestamp": 1584302966856,
     "user": {
      "displayName": "Eser İnan Arslan",
      "photoUrl": "https://lh3.googleusercontent.com/a-/AOh14Ggz536p806W0W9-wxWFfPdVV303PuNNPAhu9S1UjA=s64",
      "userId": "01966049699378036829"
     },
     "user_tz": -180
    },
    "id": "t4ZOHUWXYw4J",
    "outputId": "9f335244-231f-4768-d5ef-31b80f77ccd9"
   },
   "outputs": [
    {
     "data": {
      "text/html": [
       "<div>\n",
       "<style scoped>\n",
       "    .dataframe tbody tr th:only-of-type {\n",
       "        vertical-align: middle;\n",
       "    }\n",
       "\n",
       "    .dataframe tbody tr th {\n",
       "        vertical-align: top;\n",
       "    }\n",
       "\n",
       "    .dataframe thead th {\n",
       "        text-align: right;\n",
       "    }\n",
       "</style>\n",
       "<table border=\"1\" class=\"dataframe\">\n",
       "  <thead>\n",
       "    <tr style=\"text-align: right;\">\n",
       "      <th></th>\n",
       "      <th>Date</th>\n",
       "      <th>Price</th>\n",
       "      <th>Open</th>\n",
       "      <th>High</th>\n",
       "      <th>Low</th>\n",
       "      <th>Vol.</th>\n",
       "      <th>Change %</th>\n",
       "    </tr>\n",
       "  </thead>\n",
       "  <tbody>\n",
       "    <tr>\n",
       "      <td>389</td>\n",
       "      <td>Aug 11, 2019</td>\n",
       "      <td>90.107</td>\n",
       "      <td>85.497</td>\n",
       "      <td>91.499</td>\n",
       "      <td>85.422</td>\n",
       "      <td>9.97M</td>\n",
       "      <td>5.37%</td>\n",
       "    </tr>\n",
       "    <tr>\n",
       "      <td>390</td>\n",
       "      <td>Aug 10, 2019</td>\n",
       "      <td>85.512</td>\n",
       "      <td>84.321</td>\n",
       "      <td>87.436</td>\n",
       "      <td>82.623</td>\n",
       "      <td>11.08M</td>\n",
       "      <td>1.40%</td>\n",
       "    </tr>\n",
       "    <tr>\n",
       "      <td>391</td>\n",
       "      <td>Aug 09, 2019</td>\n",
       "      <td>84.331</td>\n",
       "      <td>90.206</td>\n",
       "      <td>90.418</td>\n",
       "      <td>82.753</td>\n",
       "      <td>11.34M</td>\n",
       "      <td>-6.52%</td>\n",
       "    </tr>\n",
       "    <tr>\n",
       "      <td>392</td>\n",
       "      <td>Aug 08, 2019</td>\n",
       "      <td>90.209</td>\n",
       "      <td>90.568</td>\n",
       "      <td>92.130</td>\n",
       "      <td>88.112</td>\n",
       "      <td>10.68M</td>\n",
       "      <td>-0.37%</td>\n",
       "    </tr>\n",
       "    <tr>\n",
       "      <td>393</td>\n",
       "      <td>Aug 07, 2019</td>\n",
       "      <td>90.546</td>\n",
       "      <td>93.042</td>\n",
       "      <td>94.286</td>\n",
       "      <td>87.764</td>\n",
       "      <td>10.54M</td>\n",
       "      <td>-2.69%</td>\n",
       "    </tr>\n",
       "    <tr>\n",
       "      <td>394</td>\n",
       "      <td>Aug 06, 2019</td>\n",
       "      <td>93.049</td>\n",
       "      <td>96.508</td>\n",
       "      <td>99.246</td>\n",
       "      <td>91.217</td>\n",
       "      <td>11.28M</td>\n",
       "      <td>-3.58%</td>\n",
       "    </tr>\n",
       "    <tr>\n",
       "      <td>395</td>\n",
       "      <td>Aug 05, 2019</td>\n",
       "      <td>96.504</td>\n",
       "      <td>92.700</td>\n",
       "      <td>106.384</td>\n",
       "      <td>92.700</td>\n",
       "      <td>15.38M</td>\n",
       "      <td>4.10%</td>\n",
       "    </tr>\n",
       "    <tr>\n",
       "      <td>396</td>\n",
       "      <td>Aug 04, 2019</td>\n",
       "      <td>92.701</td>\n",
       "      <td>94.190</td>\n",
       "      <td>94.740</td>\n",
       "      <td>90.548</td>\n",
       "      <td>8.48M</td>\n",
       "      <td>-1.58%</td>\n",
       "    </tr>\n",
       "    <tr>\n",
       "      <td>397</td>\n",
       "      <td>Aug 03, 2019</td>\n",
       "      <td>94.192</td>\n",
       "      <td>94.780</td>\n",
       "      <td>96.552</td>\n",
       "      <td>93.652</td>\n",
       "      <td>8.28M</td>\n",
       "      <td>-0.61%</td>\n",
       "    </tr>\n",
       "  </tbody>\n",
       "</table>\n",
       "</div>"
      ],
      "text/plain": [
       "             Date   Price    Open     High     Low    Vol. Change %\n",
       "389  Aug 11, 2019  90.107  85.497   91.499  85.422   9.97M    5.37%\n",
       "390  Aug 10, 2019  85.512  84.321   87.436  82.623  11.08M    1.40%\n",
       "391  Aug 09, 2019  84.331  90.206   90.418  82.753  11.34M   -6.52%\n",
       "392  Aug 08, 2019  90.209  90.568   92.130  88.112  10.68M   -0.37%\n",
       "393  Aug 07, 2019  90.546  93.042   94.286  87.764  10.54M   -2.69%\n",
       "394  Aug 06, 2019  93.049  96.508   99.246  91.217  11.28M   -3.58%\n",
       "395  Aug 05, 2019  96.504  92.700  106.384  92.700  15.38M    4.10%\n",
       "396  Aug 04, 2019  92.701  94.190   94.740  90.548   8.48M   -1.58%\n",
       "397  Aug 03, 2019  94.192  94.780   96.552  93.652   8.28M   -0.61%"
      ]
     },
     "execution_count": 59,
     "metadata": {},
     "output_type": "execute_result"
    }
   ],
   "source": [
    "result_df.head(9)"
   ]
  },
  {
   "cell_type": "code",
   "execution_count": 60,
   "metadata": {
    "colab": {
     "base_uri": "https://localhost:8080/",
     "height": 328
    },
    "colab_type": "code",
    "executionInfo": {
     "elapsed": 462,
     "status": "ok",
     "timestamp": 1584302967916,
     "user": {
      "displayName": "Eser İnan Arslan",
      "photoUrl": "https://lh3.googleusercontent.com/a-/AOh14Ggz536p806W0W9-wxWFfPdVV303PuNNPAhu9S1UjA=s64",
      "userId": "01966049699378036829"
     },
     "user_tz": -180
    },
    "id": "-cARAe9prZzH",
    "outputId": "d60eca81-a62a-4318-b47d-04d935dcb5be"
   },
   "outputs": [
    {
     "data": {
      "text/html": [
       "<div>\n",
       "<style scoped>\n",
       "    .dataframe tbody tr th:only-of-type {\n",
       "        vertical-align: middle;\n",
       "    }\n",
       "\n",
       "    .dataframe tbody tr th {\n",
       "        vertical-align: top;\n",
       "    }\n",
       "\n",
       "    .dataframe thead th {\n",
       "        text-align: right;\n",
       "    }\n",
       "</style>\n",
       "<table border=\"1\" class=\"dataframe\">\n",
       "  <thead>\n",
       "    <tr style=\"text-align: right;\">\n",
       "      <th></th>\n",
       "      <th>Date</th>\n",
       "      <th>Price</th>\n",
       "      <th>Open</th>\n",
       "      <th>High</th>\n",
       "      <th>Low</th>\n",
       "      <th>Vol.</th>\n",
       "      <th>Change %</th>\n",
       "      <th>XGB_Predictions</th>\n",
       "    </tr>\n",
       "  </thead>\n",
       "  <tbody>\n",
       "    <tr>\n",
       "      <td>389</td>\n",
       "      <td>Aug 11, 2019</td>\n",
       "      <td>90.107</td>\n",
       "      <td>85.497</td>\n",
       "      <td>91.499</td>\n",
       "      <td>85.422</td>\n",
       "      <td>9.97M</td>\n",
       "      <td>5.37%</td>\n",
       "      <td>85.923379</td>\n",
       "    </tr>\n",
       "    <tr>\n",
       "      <td>390</td>\n",
       "      <td>Aug 10, 2019</td>\n",
       "      <td>85.512</td>\n",
       "      <td>84.321</td>\n",
       "      <td>87.436</td>\n",
       "      <td>82.623</td>\n",
       "      <td>11.08M</td>\n",
       "      <td>1.40%</td>\n",
       "      <td>90.249379</td>\n",
       "    </tr>\n",
       "    <tr>\n",
       "      <td>391</td>\n",
       "      <td>Aug 09, 2019</td>\n",
       "      <td>84.331</td>\n",
       "      <td>90.206</td>\n",
       "      <td>90.418</td>\n",
       "      <td>82.753</td>\n",
       "      <td>11.34M</td>\n",
       "      <td>-6.52%</td>\n",
       "      <td>85.654379</td>\n",
       "    </tr>\n",
       "    <tr>\n",
       "      <td>392</td>\n",
       "      <td>Aug 08, 2019</td>\n",
       "      <td>90.209</td>\n",
       "      <td>90.568</td>\n",
       "      <td>92.130</td>\n",
       "      <td>88.112</td>\n",
       "      <td>10.68M</td>\n",
       "      <td>-0.37%</td>\n",
       "      <td>84.473379</td>\n",
       "    </tr>\n",
       "    <tr>\n",
       "      <td>393</td>\n",
       "      <td>Aug 07, 2019</td>\n",
       "      <td>90.546</td>\n",
       "      <td>93.042</td>\n",
       "      <td>94.286</td>\n",
       "      <td>87.764</td>\n",
       "      <td>10.54M</td>\n",
       "      <td>-2.69%</td>\n",
       "      <td>90.351379</td>\n",
       "    </tr>\n",
       "    <tr>\n",
       "      <td>394</td>\n",
       "      <td>Aug 06, 2019</td>\n",
       "      <td>93.049</td>\n",
       "      <td>96.508</td>\n",
       "      <td>99.246</td>\n",
       "      <td>91.217</td>\n",
       "      <td>11.28M</td>\n",
       "      <td>-3.58%</td>\n",
       "      <td>90.688379</td>\n",
       "    </tr>\n",
       "    <tr>\n",
       "      <td>395</td>\n",
       "      <td>Aug 05, 2019</td>\n",
       "      <td>96.504</td>\n",
       "      <td>92.700</td>\n",
       "      <td>106.384</td>\n",
       "      <td>92.700</td>\n",
       "      <td>15.38M</td>\n",
       "      <td>4.10%</td>\n",
       "      <td>93.191379</td>\n",
       "    </tr>\n",
       "    <tr>\n",
       "      <td>396</td>\n",
       "      <td>Aug 04, 2019</td>\n",
       "      <td>92.701</td>\n",
       "      <td>94.190</td>\n",
       "      <td>94.740</td>\n",
       "      <td>90.548</td>\n",
       "      <td>8.48M</td>\n",
       "      <td>-1.58%</td>\n",
       "      <td>96.646379</td>\n",
       "    </tr>\n",
       "    <tr>\n",
       "      <td>397</td>\n",
       "      <td>Aug 03, 2019</td>\n",
       "      <td>94.192</td>\n",
       "      <td>94.780</td>\n",
       "      <td>96.552</td>\n",
       "      <td>93.652</td>\n",
       "      <td>8.28M</td>\n",
       "      <td>-0.61%</td>\n",
       "      <td>92.843379</td>\n",
       "    </tr>\n",
       "  </tbody>\n",
       "</table>\n",
       "</div>"
      ],
      "text/plain": [
       "             Date   Price    Open     High     Low    Vol. Change %  XGB_Predictions\n",
       "389  Aug 11, 2019  90.107  85.497   91.499  85.422   9.97M    5.37%        85.923379\n",
       "390  Aug 10, 2019  85.512  84.321   87.436  82.623  11.08M    1.40%        90.249379\n",
       "391  Aug 09, 2019  84.331  90.206   90.418  82.753  11.34M   -6.52%        85.654379\n",
       "392  Aug 08, 2019  90.209  90.568   92.130  88.112  10.68M   -0.37%        84.473379\n",
       "393  Aug 07, 2019  90.546  93.042   94.286  87.764  10.54M   -2.69%        90.351379\n",
       "394  Aug 06, 2019  93.049  96.508   99.246  91.217  11.28M   -3.58%        90.688379\n",
       "395  Aug 05, 2019  96.504  92.700  106.384  92.700  15.38M    4.10%        93.191379\n",
       "396  Aug 04, 2019  92.701  94.190   94.740  90.548   8.48M   -1.58%        96.646379\n",
       "397  Aug 03, 2019  94.192  94.780   96.552  93.652   8.28M   -0.61%        92.843379"
      ]
     },
     "execution_count": 60,
     "metadata": {},
     "output_type": "execute_result"
    }
   ],
   "source": [
    "result_df['XGB_Predictions'] = predictions\n",
    "result_df.head(9)"
   ]
  },
  {
   "cell_type": "code",
   "execution_count": 61,
   "metadata": {
    "colab": {
     "base_uri": "https://localhost:8080/",
     "height": 285
    },
    "colab_type": "code",
    "executionInfo": {
     "elapsed": 1175,
     "status": "ok",
     "timestamp": 1584302969317,
     "user": {
      "displayName": "Eser İnan Arslan",
      "photoUrl": "https://lh3.googleusercontent.com/a-/AOh14Ggz536p806W0W9-wxWFfPdVV303PuNNPAhu9S1UjA=s64",
      "userId": "01966049699378036829"
     },
     "user_tz": -180
    },
    "id": "gyqDHNelrZ2N",
    "outputId": "0b159810-4241-4099-8297-69fa20838da9"
   },
   "outputs": [
    {
     "data": {
      "text/plain": [
       "<matplotlib.axes._subplots.AxesSubplot at 0x7fddc93e60b8>"
      ]
     },
     "execution_count": 61,
     "metadata": {},
     "output_type": "execute_result"
    },
    {
     "data": {
      "image/png": "[encoded data removed]",
      "text/plain": [
       "<Figure size 720x288 with 1 Axes>"
      ]
     },
     "metadata": {
      "needs_background": "light"
     },
     "output_type": "display_data"
    }
   ],
   "source": [
    "result_df[:9].plot(figsize=(10,4))"
   ]
  },
  {
   "cell_type": "code",
   "execution_count": null,
   "metadata": {
    "colab": {},
    "colab_type": "code",
    "id": "tlNwUXsRZuFn"
   },
   "outputs": [],
   "source": []
  },
  {
   "cell_type": "code",
   "execution_count": null,
   "metadata": {
    "colab": {},
    "colab_type": "code",
    "id": "ZQ9_mHDBan3i"
   },
   "outputs": [],
   "source": []
  },
  {
   "cell_type": "code",
   "execution_count": 62,
   "metadata": {
    "colab": {
     "base_uri": "https://localhost:8080/",
     "height": 390
    },
    "colab_type": "code",
    "executionInfo": {
     "elapsed": 667,
     "status": "ok",
     "timestamp": 1584302972033,
     "user": {
      "displayName": "Eser İnan Arslan",
      "photoUrl": "https://lh3.googleusercontent.com/a-/AOh14Ggz536p806W0W9-wxWFfPdVV303PuNNPAhu9S1UjA=s64",
      "userId": "01966049699378036829"
     },
     "user_tz": -180
    },
    "id": "4E-BcZShan7h",
    "outputId": "229fc404-2701-44aa-d7e8-da07191ae1aa"
   },
   "outputs": [
    {
     "data": {
      "text/html": [
       "<div>\n",
       "<style scoped>\n",
       "    .dataframe tbody tr th:only-of-type {\n",
       "        vertical-align: middle;\n",
       "    }\n",
       "\n",
       "    .dataframe tbody tr th {\n",
       "        vertical-align: top;\n",
       "    }\n",
       "\n",
       "    .dataframe thead th {\n",
       "        text-align: right;\n",
       "    }\n",
       "</style>\n",
       "<table border=\"1\" class=\"dataframe\">\n",
       "  <thead>\n",
       "    <tr style=\"text-align: right;\">\n",
       "      <th></th>\n",
       "      <th>Price</th>\n",
       "      <th>Open</th>\n",
       "      <th>High</th>\n",
       "      <th>Low</th>\n",
       "      <th>Vol.</th>\n",
       "      <th>Change %</th>\n",
       "    </tr>\n",
       "    <tr>\n",
       "      <th>Date</th>\n",
       "      <th></th>\n",
       "      <th></th>\n",
       "      <th></th>\n",
       "      <th></th>\n",
       "      <th></th>\n",
       "      <th></th>\n",
       "    </tr>\n",
       "  </thead>\n",
       "  <tbody>\n",
       "    <tr>\n",
       "      <td>2020-09-03</td>\n",
       "      <td>56.752</td>\n",
       "      <td>58.060</td>\n",
       "      <td>58.600</td>\n",
       "      <td>56.292</td>\n",
       "      <td>14.60M</td>\n",
       "      <td>-2.30%</td>\n",
       "    </tr>\n",
       "    <tr>\n",
       "      <td>2020-09-02</td>\n",
       "      <td>58.087</td>\n",
       "      <td>62.697</td>\n",
       "      <td>63.168</td>\n",
       "      <td>56.658</td>\n",
       "      <td>14.91M</td>\n",
       "      <td>-7.40%</td>\n",
       "    </tr>\n",
       "    <tr>\n",
       "      <td>2020-09-01</td>\n",
       "      <td>62.730</td>\n",
       "      <td>60.957</td>\n",
       "      <td>64.273</td>\n",
       "      <td>59.857</td>\n",
       "      <td>13.69M</td>\n",
       "      <td>2.91%</td>\n",
       "    </tr>\n",
       "    <tr>\n",
       "      <td>2020-08-31</td>\n",
       "      <td>60.957</td>\n",
       "      <td>62.870</td>\n",
       "      <td>63.677</td>\n",
       "      <td>60.588</td>\n",
       "      <td>14.61M</td>\n",
       "      <td>-3.04%</td>\n",
       "    </tr>\n",
       "    <tr>\n",
       "      <td>2020-08-30</td>\n",
       "      <td>62.870</td>\n",
       "      <td>56.952</td>\n",
       "      <td>62.883</td>\n",
       "      <td>56.931</td>\n",
       "      <td>14.95M</td>\n",
       "      <td>10.39%</td>\n",
       "    </tr>\n",
       "    <tr>\n",
       "      <td>2019-08-07</td>\n",
       "      <td>90.546</td>\n",
       "      <td>93.042</td>\n",
       "      <td>94.286</td>\n",
       "      <td>87.764</td>\n",
       "      <td>10.54M</td>\n",
       "      <td>-2.69%</td>\n",
       "    </tr>\n",
       "    <tr>\n",
       "      <td>2019-08-06</td>\n",
       "      <td>93.049</td>\n",
       "      <td>96.508</td>\n",
       "      <td>99.246</td>\n",
       "      <td>91.217</td>\n",
       "      <td>11.28M</td>\n",
       "      <td>-3.58%</td>\n",
       "    </tr>\n",
       "    <tr>\n",
       "      <td>2019-08-05</td>\n",
       "      <td>96.504</td>\n",
       "      <td>92.700</td>\n",
       "      <td>106.384</td>\n",
       "      <td>92.700</td>\n",
       "      <td>15.38M</td>\n",
       "      <td>4.10%</td>\n",
       "    </tr>\n",
       "    <tr>\n",
       "      <td>2019-08-04</td>\n",
       "      <td>92.701</td>\n",
       "      <td>94.190</td>\n",
       "      <td>94.740</td>\n",
       "      <td>90.548</td>\n",
       "      <td>8.48M</td>\n",
       "      <td>-1.58%</td>\n",
       "    </tr>\n",
       "    <tr>\n",
       "      <td>2019-08-03</td>\n",
       "      <td>94.192</td>\n",
       "      <td>94.780</td>\n",
       "      <td>96.552</td>\n",
       "      <td>93.652</td>\n",
       "      <td>8.28M</td>\n",
       "      <td>-0.61%</td>\n",
       "    </tr>\n",
       "  </tbody>\n",
       "</table>\n",
       "</div>"
      ],
      "text/plain": [
       "             Price    Open     High     Low    Vol. Change %\n",
       "Date                                                        \n",
       "2020-09-03  56.752  58.060   58.600  56.292  14.60M   -2.30%\n",
       "2020-09-02  58.087  62.697   63.168  56.658  14.91M   -7.40%\n",
       "2020-09-01  62.730  60.957   64.273  59.857  13.69M    2.91%\n",
       "2020-08-31  60.957  62.870   63.677  60.588  14.61M   -3.04%\n",
       "2020-08-30  62.870  56.952   62.883  56.931  14.95M   10.39%\n",
       "2019-08-07  90.546  93.042   94.286  87.764  10.54M   -2.69%\n",
       "2019-08-06  93.049  96.508   99.246  91.217  11.28M   -3.58%\n",
       "2019-08-05  96.504  92.700  106.384  92.700  15.38M    4.10%\n",
       "2019-08-04  92.701  94.190   94.740  90.548   8.48M   -1.58%\n",
       "2019-08-03  94.192  94.780   96.552  93.652   8.28M   -0.61%"
      ]
     },
     "execution_count": 62,
     "metadata": {},
     "output_type": "execute_result"
    }
   ],
   "source": [
    "train.head(5).append(train.tail(5))"
   ]
  },
  {
   "cell_type": "markdown",
   "metadata": {
    "colab_type": "text",
    "id": "hcV6HEluaoN-"
   },
   "source": [
    "# **AutoArima**"
   ]
  },
  {
   "cell_type": "code",
   "execution_count": 63,
   "metadata": {
    "colab": {
     "base_uri": "https://localhost:8080/",
     "height": 235
    },
    "colab_type": "code",
    "executionInfo": {
     "elapsed": 597,
     "status": "ok",
     "timestamp": 1584302973063,
     "user": {
      "displayName": "Eser İnan Arslan",
      "photoUrl": "https://lh3.googleusercontent.com/a-/AOh14Ggz536p806W0W9-wxWFfPdVV303PuNNPAhu9S1UjA=s64",
      "userId": "01966049699378036829"
     },
     "user_tz": -180
    },
    "id": "2VsGQolE_8tk",
    "outputId": "d8e1127f-6122-4def-e476-10fce5a044ff"
   },
   "outputs": [
    {
     "data": {
      "text/html": [
       "<div>\n",
       "<style scoped>\n",
       "    .dataframe tbody tr th:only-of-type {\n",
       "        vertical-align: middle;\n",
       "    }\n",
       "\n",
       "    .dataframe tbody tr th {\n",
       "        vertical-align: top;\n",
       "    }\n",
       "\n",
       "    .dataframe thead th {\n",
       "        text-align: right;\n",
       "    }\n",
       "</style>\n",
       "<table border=\"1\" class=\"dataframe\">\n",
       "  <thead>\n",
       "    <tr style=\"text-align: right;\">\n",
       "      <th></th>\n",
       "      <th>Price</th>\n",
       "      <th>Open</th>\n",
       "      <th>High</th>\n",
       "      <th>Low</th>\n",
       "      <th>Vol.</th>\n",
       "      <th>Change %</th>\n",
       "    </tr>\n",
       "    <tr>\n",
       "      <th>Date</th>\n",
       "      <th></th>\n",
       "      <th></th>\n",
       "      <th></th>\n",
       "      <th></th>\n",
       "      <th></th>\n",
       "      <th></th>\n",
       "    </tr>\n",
       "  </thead>\n",
       "  <tbody>\n",
       "    <tr>\n",
       "      <td>2020-09-03</td>\n",
       "      <td>56.752</td>\n",
       "      <td>58.060</td>\n",
       "      <td>58.600</td>\n",
       "      <td>56.292</td>\n",
       "      <td>14.60M</td>\n",
       "      <td>-2.30%</td>\n",
       "    </tr>\n",
       "    <tr>\n",
       "      <td>2020-09-02</td>\n",
       "      <td>58.087</td>\n",
       "      <td>62.697</td>\n",
       "      <td>63.168</td>\n",
       "      <td>56.658</td>\n",
       "      <td>14.91M</td>\n",
       "      <td>-7.40%</td>\n",
       "    </tr>\n",
       "    <tr>\n",
       "      <td>2020-09-01</td>\n",
       "      <td>62.730</td>\n",
       "      <td>60.957</td>\n",
       "      <td>64.273</td>\n",
       "      <td>59.857</td>\n",
       "      <td>13.69M</td>\n",
       "      <td>2.91%</td>\n",
       "    </tr>\n",
       "    <tr>\n",
       "      <td>2020-08-31</td>\n",
       "      <td>60.957</td>\n",
       "      <td>62.870</td>\n",
       "      <td>63.677</td>\n",
       "      <td>60.588</td>\n",
       "      <td>14.61M</td>\n",
       "      <td>-3.04%</td>\n",
       "    </tr>\n",
       "    <tr>\n",
       "      <td>2020-08-30</td>\n",
       "      <td>62.870</td>\n",
       "      <td>56.952</td>\n",
       "      <td>62.883</td>\n",
       "      <td>56.931</td>\n",
       "      <td>14.95M</td>\n",
       "      <td>10.39%</td>\n",
       "    </tr>\n",
       "    <tr>\n",
       "      <td>2020-08-29</td>\n",
       "      <td>56.952</td>\n",
       "      <td>57.410</td>\n",
       "      <td>58.188</td>\n",
       "      <td>56.952</td>\n",
       "      <td>11.65M</td>\n",
       "      <td>-0.80%</td>\n",
       "    </tr>\n",
       "    <tr>\n",
       "      <td>2020-08-28</td>\n",
       "      <td>57.412</td>\n",
       "      <td>56.083</td>\n",
       "      <td>58.184</td>\n",
       "      <td>55.334</td>\n",
       "      <td>13.96M</td>\n",
       "      <td>2.38%</td>\n",
       "    </tr>\n",
       "    <tr>\n",
       "      <td>2020-08-27</td>\n",
       "      <td>56.076</td>\n",
       "      <td>58.087</td>\n",
       "      <td>59.232</td>\n",
       "      <td>54.046</td>\n",
       "      <td>12.69M</td>\n",
       "      <td>-3.46%</td>\n",
       "    </tr>\n",
       "    <tr>\n",
       "      <td>2020-08-26</td>\n",
       "      <td>58.087</td>\n",
       "      <td>58.347</td>\n",
       "      <td>59.062</td>\n",
       "      <td>57.028</td>\n",
       "      <td>11.47M</td>\n",
       "      <td>-0.45%</td>\n",
       "    </tr>\n",
       "    <tr>\n",
       "      <td>2020-08-25</td>\n",
       "      <td>58.349</td>\n",
       "      <td>62.090</td>\n",
       "      <td>62.292</td>\n",
       "      <td>56.687</td>\n",
       "      <td>13.87M</td>\n",
       "      <td>-6.03%</td>\n",
       "    </tr>\n",
       "  </tbody>\n",
       "</table>\n",
       "</div>"
      ],
      "text/plain": [
       "             Price    Open    High     Low    Vol. Change %\n",
       "Date                                                       \n",
       "2020-09-03  56.752  58.060  58.600  56.292  14.60M   -2.30%\n",
       "2020-09-02  58.087  62.697  63.168  56.658  14.91M   -7.40%\n",
       "2020-09-01  62.730  60.957  64.273  59.857  13.69M    2.91%\n",
       "2020-08-31  60.957  62.870  63.677  60.588  14.61M   -3.04%\n",
       "2020-08-30  62.870  56.952  62.883  56.931  14.95M   10.39%\n",
       "2020-08-29  56.952  57.410  58.188  56.952  11.65M   -0.80%\n",
       "2020-08-28  57.412  56.083  58.184  55.334  13.96M    2.38%\n",
       "2020-08-27  56.076  58.087  59.232  54.046  12.69M   -3.46%\n",
       "2020-08-26  58.087  58.347  59.062  57.028  11.47M   -0.45%\n",
       "2020-08-25  58.349  62.090  62.292  56.687  13.87M   -6.03%"
      ]
     },
     "execution_count": 63,
     "metadata": {},
     "output_type": "execute_result"
    }
   ],
   "source": [
    "train[:-9].head(10)"
   ]
  },
  {
   "cell_type": "code",
   "execution_count": null,
   "metadata": {
    "colab": {},
    "colab_type": "code",
    "id": "9GXUa8vRC3Ee"
   },
   "outputs": [],
   "source": []
  },
  {
   "cell_type": "code",
   "execution_count": 64,
   "metadata": {
    "colab": {
     "base_uri": "https://localhost:8080/",
     "height": 297
    },
    "colab_type": "code",
    "executionInfo": {
     "elapsed": 2292,
     "status": "ok",
     "timestamp": 1584302975848,
     "user": {
      "displayName": "Eser İnan Arslan",
      "photoUrl": "https://lh3.googleusercontent.com/a-/AOh14Ggz536p806W0W9-wxWFfPdVV303PuNNPAhu9S1UjA=s64",
      "userId": "01966049699378036829"
     },
     "user_tz": -180
    },
    "id": "gZUpg5z8CkmH",
    "outputId": "5ca5cf7a-31d9-4003-9e34-6264a3914d01"
   },
   "outputs": [
    {
     "data": {
      "image/png": "[encoded data removed]",
      "text/plain": [
       "<Figure size 432x288 with 4 Axes>"
      ]
     },
     "metadata": {
      "needs_background": "light"
     },
     "output_type": "display_data"
    }
   ],
   "source": [
    "result = seasonal_decompose(train.Price, model='multiplicative')\n",
    "fig = result.plot()"
   ]
  },
  {
   "cell_type": "code",
   "execution_count": 65,
   "metadata": {
    "colab": {},
    "colab_type": "code",
    "id": "oeiMO5RaH9qI"
   },
   "outputs": [],
   "source": [
    "arima_train = train[:-9].Price\n",
    "arima_test = train[-9:].Price"
   ]
  },
  {
   "cell_type": "markdown",
   "metadata": {
    "colab_type": "text",
    "id": "cxwIvN_3OVN2"
   },
   "source": [
    "(data, start_p=1, start_q=1,\n",
    "                           max_p=3, max_q=3, m=12,\n",
    "                           start_P=0, seasonal=True,\n",
    "                           d=1, D=1, trace=True,\n",
    "                           error_action='ignore',  \n",
    "                           suppress_warnings=True, \n",
    "                           stepwise=True)"
   ]
  },
  {
   "cell_type": "code",
   "execution_count": 66,
   "metadata": {
    "colab": {
     "base_uri": "https://localhost:8080/",
     "height": 510
    },
    "colab_type": "code",
    "executionInfo": {
     "elapsed": 34090,
     "status": "ok",
     "timestamp": 1584303009186,
     "user": {
      "displayName": "Eser İnan Arslan",
      "photoUrl": "https://lh3.googleusercontent.com/a-/AOh14Ggz536p806W0W9-wxWFfPdVV303PuNNPAhu9S1UjA=s64",
      "userId": "01966049699378036829"
     },
     "user_tz": -180
    },
    "id": "U9oP3PK9L9nw",
    "outputId": "b1088492-0d74-4583-c522-ca7d94149996"
   },
   "outputs": [
    {
     "name": "stdout",
     "output_type": "stream",
     "text": [
      "Arima process started at :  2020-09-03 14:04:41.626021\n"
     ]
    },
    {
     "name": "stderr",
     "output_type": "stream",
     "text": [
      "/Library/Frameworks/Python.framework/Versions/3.6/lib/python3.6/site-packages/pyramid/arima/auto.py:379: UserWarning:\n",
      "\n",
      "stepwise model cannot be fit in parallel (n_jobs=1). Falling back to stepwise parameter search.\n",
      "\n"
     ]
    },
    {
     "name": "stdout",
     "output_type": "stream",
     "text": [
      "Fit ARIMA: order=(0, 1, 0) seasonal_order=(0, 1, 1, 12); AIC=1809.345, BIC=1821.133, Fit time=0.684 seconds\n",
      "Fit ARIMA: order=(0, 1, 0) seasonal_order=(0, 1, 0, 12); AIC=2022.575, BIC=2030.434, Fit time=0.022 seconds\n",
      "Fit ARIMA: order=(1, 1, 0) seasonal_order=(1, 1, 0, 12); AIC=1919.766, BIC=1935.484, Fit time=0.320 seconds\n",
      "Fit ARIMA: order=(0, 1, 1) seasonal_order=(0, 1, 1, 12); AIC=1808.306, BIC=1824.024, Fit time=1.077 seconds\n",
      "Fit ARIMA: order=(0, 1, 1) seasonal_order=(1, 1, 1, 12); AIC=1810.303, BIC=1829.951, Fit time=1.713 seconds\n",
      "Fit ARIMA: order=(0, 1, 1) seasonal_order=(0, 1, 0, 12); AIC=2020.401, BIC=2032.190, Fit time=0.076 seconds\n",
      "Fit ARIMA: order=(0, 1, 1) seasonal_order=(0, 1, 2, 12); AIC=1810.303, BIC=1829.951, Fit time=3.564 seconds\n",
      "Fit ARIMA: order=(0, 1, 1) seasonal_order=(1, 1, 2, 12); AIC=1811.929, BIC=1835.506, Fit time=5.639 seconds\n",
      "Fit ARIMA: order=(1, 1, 1) seasonal_order=(0, 1, 1, 12); AIC=1804.089, BIC=1823.737, Fit time=1.764 seconds\n",
      "Fit ARIMA: order=(1, 1, 0) seasonal_order=(0, 1, 1, 12); AIC=1807.842, BIC=1823.560, Fit time=1.268 seconds\n",
      "Fit ARIMA: order=(1, 1, 2) seasonal_order=(0, 1, 1, 12); AIC=1805.404, BIC=1828.982, Fit time=1.639 seconds\n",
      "Fit ARIMA: order=(2, 1, 2) seasonal_order=(0, 1, 1, 12); AIC=1804.824, BIC=1832.332, Fit time=2.588 seconds\n",
      "Fit ARIMA: order=(1, 1, 1) seasonal_order=(1, 1, 1, 12); AIC=1806.072, BIC=1829.649, Fit time=1.298 seconds\n",
      "Fit ARIMA: order=(1, 1, 1) seasonal_order=(0, 1, 0, 12); AIC=2014.092, BIC=2029.810, Fit time=0.260 seconds\n",
      "Fit ARIMA: order=(1, 1, 1) seasonal_order=(0, 1, 2, 12); AIC=1806.064, BIC=1829.642, Fit time=4.964 seconds\n",
      "Fit ARIMA: order=(1, 1, 1) seasonal_order=(1, 1, 2, 12); AIC=1807.769, BIC=1835.277, Fit time=4.791 seconds\n",
      "Fit ARIMA: order=(2, 1, 1) seasonal_order=(0, 1, 1, 12); AIC=1805.538, BIC=1829.116, Fit time=1.225 seconds\n",
      "Total fit time: 32.896 seconds\n",
      "Arima process finished at :  2020-09-03 14:05:14.522454\n",
      "Process took :  0:00:32.896433\n",
      "ARIMA(callback=None, disp=0, maxiter=50, method=None, order=(1, 1, 1),\n",
      "      out_of_sample_size=0, scoring='mse', scoring_args={},\n",
      "      seasonal_order=(0, 1, 1, 12), solver='lbfgs', start_params=None,\n",
      "      suppress_warnings=True, transparams=True, trend='c')\n"
     ]
    }
   ],
   "source": [
    "# Arima Training\n",
    "now = datetime.now()\n",
    "print(\"Arima process started at : \",now)\n",
    "\n",
    "arima_stepwise_model = auto_arima(arima_train, start_p=0, start_q=0,\n",
    "                           max_p=13, max_q=13, m=12,\n",
    "                           start_P=0, seasonal=True,\n",
    "                           d=1, D=1, trace=True,\n",
    "                           error_action='ignore',  \n",
    "                           suppress_warnings=True, \n",
    "                           stepwise=True,\n",
    "                           n_jobs=10)#n_jobs for parallel process\n",
    "end = datetime.now()\n",
    "print(\"Arima process finished at : \", end)\n",
    "print(\"Process took : \", end-now)\n",
    "\n",
    "print(arima_stepwise_model)"
   ]
  },
  {
   "cell_type": "code",
   "execution_count": 67,
   "metadata": {
    "colab": {},
    "colab_type": "code",
    "id": "Vm_Qmlh6ZufK"
   },
   "outputs": [],
   "source": [
    "# Fit arima model\n",
    "arima_predicts = arima_stepwise_model.fit(arima_train)"
   ]
  },
  {
   "cell_type": "code",
   "execution_count": 68,
   "metadata": {
    "colab": {},
    "colab_type": "code",
    "id": "K5tPrNVLCLoE"
   },
   "outputs": [],
   "source": [
    "# Predict results with auto-arima\n",
    "future_forecast = arima_predicts.predict(n_periods=9)"
   ]
  },
  {
   "cell_type": "code",
   "execution_count": 69,
   "metadata": {
    "colab": {
     "base_uri": "https://localhost:8080/",
     "height": 68
    },
    "colab_type": "code",
    "executionInfo": {
     "elapsed": 31106,
     "status": "ok",
     "timestamp": 1584303010237,
     "user": {
      "displayName": "Eser İnan Arslan",
      "photoUrl": "https://lh3.googleusercontent.com/a-/AOh14Ggz536p806W0W9-wxWFfPdVV303PuNNPAhu9S1UjA=s64",
      "userId": "01966049699378036829"
     },
     "user_tz": -180
    },
    "id": "iTx-oXsbIfzl",
    "outputId": "8d4f7af1-c07b-4b84-adea-26a7cdd98a0b"
   },
   "outputs": [
    {
     "data": {
      "text/plain": [
       "array([86.29182941, 85.97485477, 85.92159404, 86.26212298, 86.94813048,\n",
       "       87.89882636, 88.45073568, 89.43574538, 90.13904813])"
      ]
     },
     "execution_count": 69,
     "metadata": {},
     "output_type": "execute_result"
    }
   ],
   "source": [
    "future_forecast"
   ]
  },
  {
   "cell_type": "code",
   "execution_count": 70,
   "metadata": {
    "colab": {},
    "colab_type": "code",
    "id": "E7fCLKgkI5qU"
   },
   "outputs": [],
   "source": [
    "arima_rmse = sqrt(mean_squared_error(train['Price'][-9:], future_forecast))"
   ]
  },
  {
   "cell_type": "code",
   "execution_count": 71,
   "metadata": {
    "colab": {},
    "colab_type": "code",
    "id": "n9pvqoS2JYSF"
   },
   "outputs": [],
   "source": [
    "arima_mape = mean_absolute_percentage_error(train['Price'][-9:], future_forecast)"
   ]
  },
  {
   "cell_type": "code",
   "execution_count": 72,
   "metadata": {
    "colab": {
     "base_uri": "https://localhost:8080/",
     "height": 51
    },
    "colab_type": "code",
    "executionInfo": {
     "elapsed": 437,
     "status": "ok",
     "timestamp": 1584303018615,
     "user": {
      "displayName": "Eser İnan Arslan",
      "photoUrl": "https://lh3.googleusercontent.com/a-/AOh14Ggz536p806W0W9-wxWFfPdVV303PuNNPAhu9S1UjA=s64",
      "userId": "01966049699378036829"
     },
     "user_tz": -180
    },
    "id": "nmWtonTeIpka",
    "outputId": "4cf0e919-4ecc-4389-ab4e-919d8a9343c6"
   },
   "outputs": [
    {
     "name": "stdout",
     "output_type": "stream",
     "text": [
      "Test RMSE: 4.272520922109963\n",
      "Test MAPE: 4.079484487138648\n"
     ]
    }
   ],
   "source": [
    "print(\"Test RMSE:\", np.mean(arima_rmse))\n",
    "print(\"Test MAPE:\", np.mean(arima_mape))"
   ]
  },
  {
   "cell_type": "code",
   "execution_count": 73,
   "metadata": {
    "colab": {
     "base_uri": "https://localhost:8080/",
     "height": 328
    },
    "colab_type": "code",
    "executionInfo": {
     "elapsed": 438,
     "status": "ok",
     "timestamp": 1584303019240,
     "user": {
      "displayName": "Eser İnan Arslan",
      "photoUrl": "https://lh3.googleusercontent.com/a-/AOh14Ggz536p806W0W9-wxWFfPdVV303PuNNPAhu9S1UjA=s64",
      "userId": "01966049699378036829"
     },
     "user_tz": -180
    },
    "id": "7XReQ9AdJsEG",
    "outputId": "63263766-6167-4bd2-dca6-1970664be1db"
   },
   "outputs": [
    {
     "data": {
      "text/html": [
       "<div>\n",
       "<style scoped>\n",
       "    .dataframe tbody tr th:only-of-type {\n",
       "        vertical-align: middle;\n",
       "    }\n",
       "\n",
       "    .dataframe tbody tr th {\n",
       "        vertical-align: top;\n",
       "    }\n",
       "\n",
       "    .dataframe thead th {\n",
       "        text-align: right;\n",
       "    }\n",
       "</style>\n",
       "<table border=\"1\" class=\"dataframe\">\n",
       "  <thead>\n",
       "    <tr style=\"text-align: right;\">\n",
       "      <th></th>\n",
       "      <th>Date</th>\n",
       "      <th>Price</th>\n",
       "      <th>Open</th>\n",
       "      <th>High</th>\n",
       "      <th>Low</th>\n",
       "      <th>Vol.</th>\n",
       "      <th>Change %</th>\n",
       "      <th>XGB_Predictions</th>\n",
       "      <th>Arima_Predictions</th>\n",
       "    </tr>\n",
       "  </thead>\n",
       "  <tbody>\n",
       "    <tr>\n",
       "      <td>389</td>\n",
       "      <td>Aug 11, 2019</td>\n",
       "      <td>90.107</td>\n",
       "      <td>85.497</td>\n",
       "      <td>91.499</td>\n",
       "      <td>85.422</td>\n",
       "      <td>9.97M</td>\n",
       "      <td>5.37%</td>\n",
       "      <td>85.923379</td>\n",
       "      <td>86.291829</td>\n",
       "    </tr>\n",
       "    <tr>\n",
       "      <td>390</td>\n",
       "      <td>Aug 10, 2019</td>\n",
       "      <td>85.512</td>\n",
       "      <td>84.321</td>\n",
       "      <td>87.436</td>\n",
       "      <td>82.623</td>\n",
       "      <td>11.08M</td>\n",
       "      <td>1.40%</td>\n",
       "      <td>90.249379</td>\n",
       "      <td>85.974855</td>\n",
       "    </tr>\n",
       "    <tr>\n",
       "      <td>391</td>\n",
       "      <td>Aug 09, 2019</td>\n",
       "      <td>84.331</td>\n",
       "      <td>90.206</td>\n",
       "      <td>90.418</td>\n",
       "      <td>82.753</td>\n",
       "      <td>11.34M</td>\n",
       "      <td>-6.52%</td>\n",
       "      <td>85.654379</td>\n",
       "      <td>85.921594</td>\n",
       "    </tr>\n",
       "    <tr>\n",
       "      <td>392</td>\n",
       "      <td>Aug 08, 2019</td>\n",
       "      <td>90.209</td>\n",
       "      <td>90.568</td>\n",
       "      <td>92.130</td>\n",
       "      <td>88.112</td>\n",
       "      <td>10.68M</td>\n",
       "      <td>-0.37%</td>\n",
       "      <td>84.473379</td>\n",
       "      <td>86.262123</td>\n",
       "    </tr>\n",
       "    <tr>\n",
       "      <td>393</td>\n",
       "      <td>Aug 07, 2019</td>\n",
       "      <td>90.546</td>\n",
       "      <td>93.042</td>\n",
       "      <td>94.286</td>\n",
       "      <td>87.764</td>\n",
       "      <td>10.54M</td>\n",
       "      <td>-2.69%</td>\n",
       "      <td>90.351379</td>\n",
       "      <td>86.948130</td>\n",
       "    </tr>\n",
       "    <tr>\n",
       "      <td>394</td>\n",
       "      <td>Aug 06, 2019</td>\n",
       "      <td>93.049</td>\n",
       "      <td>96.508</td>\n",
       "      <td>99.246</td>\n",
       "      <td>91.217</td>\n",
       "      <td>11.28M</td>\n",
       "      <td>-3.58%</td>\n",
       "      <td>90.688379</td>\n",
       "      <td>87.898826</td>\n",
       "    </tr>\n",
       "    <tr>\n",
       "      <td>395</td>\n",
       "      <td>Aug 05, 2019</td>\n",
       "      <td>96.504</td>\n",
       "      <td>92.700</td>\n",
       "      <td>106.384</td>\n",
       "      <td>92.700</td>\n",
       "      <td>15.38M</td>\n",
       "      <td>4.10%</td>\n",
       "      <td>93.191379</td>\n",
       "      <td>88.450736</td>\n",
       "    </tr>\n",
       "    <tr>\n",
       "      <td>396</td>\n",
       "      <td>Aug 04, 2019</td>\n",
       "      <td>92.701</td>\n",
       "      <td>94.190</td>\n",
       "      <td>94.740</td>\n",
       "      <td>90.548</td>\n",
       "      <td>8.48M</td>\n",
       "      <td>-1.58%</td>\n",
       "      <td>96.646379</td>\n",
       "      <td>89.435745</td>\n",
       "    </tr>\n",
       "    <tr>\n",
       "      <td>397</td>\n",
       "      <td>Aug 03, 2019</td>\n",
       "      <td>94.192</td>\n",
       "      <td>94.780</td>\n",
       "      <td>96.552</td>\n",
       "      <td>93.652</td>\n",
       "      <td>8.28M</td>\n",
       "      <td>-0.61%</td>\n",
       "      <td>92.843379</td>\n",
       "      <td>90.139048</td>\n",
       "    </tr>\n",
       "  </tbody>\n",
       "</table>\n",
       "</div>"
      ],
      "text/plain": [
       "             Date   Price    Open     High     Low    Vol. Change %  XGB_Predictions  Arima_Predictions\n",
       "389  Aug 11, 2019  90.107  85.497   91.499  85.422   9.97M    5.37%        85.923379          86.291829\n",
       "390  Aug 10, 2019  85.512  84.321   87.436  82.623  11.08M    1.40%        90.249379          85.974855\n",
       "391  Aug 09, 2019  84.331  90.206   90.418  82.753  11.34M   -6.52%        85.654379          85.921594\n",
       "392  Aug 08, 2019  90.209  90.568   92.130  88.112  10.68M   -0.37%        84.473379          86.262123\n",
       "393  Aug 07, 2019  90.546  93.042   94.286  87.764  10.54M   -2.69%        90.351379          86.948130\n",
       "394  Aug 06, 2019  93.049  96.508   99.246  91.217  11.28M   -3.58%        90.688379          87.898826\n",
       "395  Aug 05, 2019  96.504  92.700  106.384  92.700  15.38M    4.10%        93.191379          88.450736\n",
       "396  Aug 04, 2019  92.701  94.190   94.740  90.548   8.48M   -1.58%        96.646379          89.435745\n",
       "397  Aug 03, 2019  94.192  94.780   96.552  93.652   8.28M   -0.61%        92.843379          90.139048"
      ]
     },
     "execution_count": 73,
     "metadata": {},
     "output_type": "execute_result"
    }
   ],
   "source": [
    "result_df['Arima_Predictions'] = future_forecast\n",
    "result_df.head(9)"
   ]
  },
  {
   "cell_type": "code",
   "execution_count": 82,
   "metadata": {
    "colab": {
     "base_uri": "https://localhost:8080/",
     "height": 285
    },
    "colab_type": "code",
    "executionInfo": {
     "elapsed": 797,
     "status": "ok",
     "timestamp": 1584303022906,
     "user": {
      "displayName": "Eser İnan Arslan",
      "photoUrl": "https://lh3.googleusercontent.com/a-/AOh14Ggz536p806W0W9-wxWFfPdVV303PuNNPAhu9S1UjA=s64",
      "userId": "01966049699378036829"
     },
     "user_tz": -180
    },
    "id": "QTWbAiM1Xerq",
    "outputId": "c04f62d1-62a6-4e6e-964d-96ef2aa82b37"
   },
   "outputs": [
    {
     "data": {
      "text/plain": [
       "<matplotlib.axes._subplots.AxesSubplot at 0x7fdda2f407b8>"
      ]
     },
     "execution_count": 82,
     "metadata": {},
     "output_type": "execute_result"
    },
    {
     "data": {
      "image/png": "[encoded data removed]",
      "text/plain": [
       "<Figure size 720x288 with 1 Axes>"
      ]
     },
     "metadata": {
      "needs_background": "light"
     },
     "output_type": "display_data"
    }
   ],
   "source": [
    "result_df[:9].Price.plot(figsize=(10,4))\n",
    "result_df[:9].XGB_Predictions.plot(figsize=(10,4))\n",
    "result_df[:9].Arima_Predictions.plot(figsize=(10,4))"
   ]
  },
  {
   "cell_type": "code",
   "execution_count": null,
   "metadata": {
    "colab": {},
    "colab_type": "code",
    "id": "DogeOQFdXmrp"
   },
   "outputs": [],
   "source": []
  },
  {
   "cell_type": "markdown",
   "metadata": {
    "colab_type": "text",
    "id": "PLat9Ggv1G3J"
   },
   "source": [
    "# **Long Short - Term Memory (LSTM)**"
   ]
  },
  {
   "cell_type": "code",
   "execution_count": 75,
   "metadata": {
    "colab": {},
    "colab_type": "code",
    "id": "mb3BuoOe1XAw"
   },
   "outputs": [],
   "source": [
    "# define parameters\n",
    "verbose, epochs, batch_size = 1, 50, 10\n",
    "n_timesteps, n_features, n_outputs = train_X_lstm.shape[1], train_X_lstm.shape[2], train_Y_lstm.shape[1]"
   ]
  },
  {
   "cell_type": "code",
   "execution_count": 76,
   "metadata": {
    "colab": {
     "base_uri": "https://localhost:8080/",
     "height": 34
    },
    "colab_type": "code",
    "executionInfo": {
     "elapsed": 1035,
     "status": "ok",
     "timestamp": 1584303211963,
     "user": {
      "displayName": "Eser İnan Arslan",
      "photoUrl": "https://lh3.googleusercontent.com/a-/AOh14Ggz536p806W0W9-wxWFfPdVV303PuNNPAhu9S1UjA=s64",
      "userId": "01966049699378036829"
     },
     "user_tz": -180
    },
    "id": "sD3qL6Q-1vKX",
    "outputId": "5d9f9b1d-0eff-4454-c8b4-938f6513a931"
   },
   "outputs": [
    {
     "data": {
      "text/plain": [
       "(1, 12, 1)"
      ]
     },
     "execution_count": 76,
     "metadata": {},
     "output_type": "execute_result"
    }
   ],
   "source": [
    "n_timesteps, n_features, n_outputs"
   ]
  },
  {
   "cell_type": "code",
   "execution_count": 83,
   "metadata": {
    "colab": {},
    "colab_type": "code",
    "id": "OPexm-oa2zki"
   },
   "outputs": [],
   "source": [
    "from tensorflow.keras.models import Sequential"
   ]
  },
  {
   "cell_type": "code",
   "execution_count": 88,
   "metadata": {},
   "outputs": [
    {
     "name": "stdout",
     "output_type": "stream",
     "text": [
      "Collecting https://github.com/lakshayg/tensorflow-build\n",
      "  Downloading https://github.com/lakshayg/tensorflow-build\n",
      "\u001b[K     | 128 kB 554 kB/s\n",
      "\u001b[31m  ERROR: Cannot unpack file /private/var/folders/5l/_yv7wpm97ld4_76cqbsrmh64pdbvcz/T/pip-unpack-5qpszljm/tensorflow-build (downloaded from /private/var/folders/5l/_yv7wpm97ld4_76cqbsrmh64pdbvcz/T/pip-req-build-v_6j7drb, content-type: text/html; charset=utf-8); cannot detect archive format\u001b[0m\n",
      "\u001b[31mERROR: Cannot determine archive format of /private/var/folders/5l/_yv7wpm97ld4_76cqbsrmh64pdbvcz/T/pip-req-build-v_6j7drb\u001b[0m\n",
      "\u001b[?25h"
     ]
    }
   ],
   "source": [
    "!pip install --ignore-installed --upgrade \"https://github.com/lakshayg/tensorflow-build\""
   ]
  },
  {
   "cell_type": "code",
   "execution_count": 89,
   "metadata": {
    "colab": {},
    "colab_type": "code",
    "id": "MW3nHrle1-AD"
   },
   "outputs": [
    {
     "ename": "AttributeError",
     "evalue": "module 'tensorflow' has no attribute 'get_default_graph'",
     "output_type": "error",
     "traceback": [
      "\u001b[0;31m---------------------------------------------------------------------------\u001b[0m",
      "\u001b[0;31mAttributeError\u001b[0m                            Traceback (most recent call last)",
      "\u001b[0;32m<ipython-input-89-f7bda18743b3>\u001b[0m in \u001b[0;36m<module>\u001b[0;34m\u001b[0m\n\u001b[1;32m      4\u001b[0m                   \u001b[0mstrides\u001b[0m\u001b[0;34m=\u001b[0m\u001b[0;36m1\u001b[0m\u001b[0;34m,\u001b[0m \u001b[0mpadding\u001b[0m\u001b[0;34m=\u001b[0m\u001b[0;34m\"causal\"\u001b[0m\u001b[0;34m,\u001b[0m\u001b[0;34m\u001b[0m\u001b[0m\n\u001b[1;32m      5\u001b[0m                   \u001b[0mactivation\u001b[0m\u001b[0;34m=\u001b[0m\u001b[0;34m\"relu\"\u001b[0m\u001b[0;34m,\u001b[0m\u001b[0;34m\u001b[0m\u001b[0m\n\u001b[0;32m----> 6\u001b[0;31m                   input_shape=(n_timesteps, n_features)))\n\u001b[0m",
      "\u001b[0;32m/Library/Frameworks/Python.framework/Versions/3.6/lib/python3.6/site-packages/keras/legacy/interfaces.py\u001b[0m in \u001b[0;36mwrapper\u001b[0;34m(*args, **kwargs)\u001b[0m\n\u001b[1;32m     89\u001b[0m                 warnings.warn('Update your `' + object_name + '` call to the ' +\n\u001b[1;32m     90\u001b[0m                               'Keras 2 API: ' + signature, stacklevel=2)\n\u001b[0;32m---> 91\u001b[0;31m             \u001b[0;32mreturn\u001b[0m \u001b[0mfunc\u001b[0m\u001b[0;34m(\u001b[0m\u001b[0;34m*\u001b[0m\u001b[0margs\u001b[0m\u001b[0;34m,\u001b[0m \u001b[0;34m**\u001b[0m\u001b[0mkwargs\u001b[0m\u001b[0;34m)\u001b[0m\u001b[0;34m\u001b[0m\u001b[0m\n\u001b[0m\u001b[1;32m     92\u001b[0m         \u001b[0mwrapper\u001b[0m\u001b[0;34m.\u001b[0m\u001b[0m_original_function\u001b[0m \u001b[0;34m=\u001b[0m \u001b[0mfunc\u001b[0m\u001b[0;34m\u001b[0m\u001b[0m\n\u001b[1;32m     93\u001b[0m         \u001b[0;32mreturn\u001b[0m \u001b[0mwrapper\u001b[0m\u001b[0;34m\u001b[0m\u001b[0m\n",
      "\u001b[0;32m/Library/Frameworks/Python.framework/Versions/3.6/lib/python3.6/site-packages/keras/layers/convolutional.py\u001b[0m in \u001b[0;36m__init__\u001b[0;34m(self, filters, kernel_size, strides, padding, data_format, dilation_rate, activation, use_bias, kernel_initializer, bias_initializer, kernel_regularizer, bias_regularizer, activity_regularizer, kernel_constraint, bias_constraint, **kwargs)\u001b[0m\n\u001b[1;32m    357\u001b[0m             \u001b[0mkernel_constraint\u001b[0m\u001b[0;34m=\u001b[0m\u001b[0mkernel_constraint\u001b[0m\u001b[0;34m,\u001b[0m\u001b[0;34m\u001b[0m\u001b[0m\n\u001b[1;32m    358\u001b[0m             \u001b[0mbias_constraint\u001b[0m\u001b[0;34m=\u001b[0m\u001b[0mbias_constraint\u001b[0m\u001b[0;34m,\u001b[0m\u001b[0;34m\u001b[0m\u001b[0m\n\u001b[0;32m--> 359\u001b[0;31m             **kwargs)\n\u001b[0m\u001b[1;32m    360\u001b[0m \u001b[0;34m\u001b[0m\u001b[0m\n\u001b[1;32m    361\u001b[0m     \u001b[0;32mdef\u001b[0m \u001b[0mget_config\u001b[0m\u001b[0;34m(\u001b[0m\u001b[0mself\u001b[0m\u001b[0;34m)\u001b[0m\u001b[0;34m:\u001b[0m\u001b[0;34m\u001b[0m\u001b[0m\n",
      "\u001b[0;32m/Library/Frameworks/Python.framework/Versions/3.6/lib/python3.6/site-packages/keras/layers/convolutional.py\u001b[0m in \u001b[0;36m__init__\u001b[0;34m(self, rank, filters, kernel_size, strides, padding, data_format, dilation_rate, activation, use_bias, kernel_initializer, bias_initializer, kernel_regularizer, bias_regularizer, activity_regularizer, kernel_constraint, bias_constraint, **kwargs)\u001b[0m\n\u001b[1;32m    103\u001b[0m                  \u001b[0mbias_constraint\u001b[0m\u001b[0;34m=\u001b[0m\u001b[0;32mNone\u001b[0m\u001b[0;34m,\u001b[0m\u001b[0;34m\u001b[0m\u001b[0m\n\u001b[1;32m    104\u001b[0m                  **kwargs):\n\u001b[0;32m--> 105\u001b[0;31m         \u001b[0msuper\u001b[0m\u001b[0;34m(\u001b[0m\u001b[0m_Conv\u001b[0m\u001b[0;34m,\u001b[0m \u001b[0mself\u001b[0m\u001b[0;34m)\u001b[0m\u001b[0;34m.\u001b[0m\u001b[0m__init__\u001b[0m\u001b[0;34m(\u001b[0m\u001b[0;34m**\u001b[0m\u001b[0mkwargs\u001b[0m\u001b[0;34m)\u001b[0m\u001b[0;34m\u001b[0m\u001b[0m\n\u001b[0m\u001b[1;32m    106\u001b[0m         \u001b[0mself\u001b[0m\u001b[0;34m.\u001b[0m\u001b[0mrank\u001b[0m \u001b[0;34m=\u001b[0m \u001b[0mrank\u001b[0m\u001b[0;34m\u001b[0m\u001b[0m\n\u001b[1;32m    107\u001b[0m         \u001b[0mself\u001b[0m\u001b[0;34m.\u001b[0m\u001b[0mfilters\u001b[0m \u001b[0;34m=\u001b[0m \u001b[0mfilters\u001b[0m\u001b[0;34m\u001b[0m\u001b[0m\n",
      "\u001b[0;32m/Library/Frameworks/Python.framework/Versions/3.6/lib/python3.6/site-packages/keras/engine/base_layer.py\u001b[0m in \u001b[0;36m__init__\u001b[0;34m(self, **kwargs)\u001b[0m\n\u001b[1;32m    130\u001b[0m         \u001b[0;32mif\u001b[0m \u001b[0;32mnot\u001b[0m \u001b[0mname\u001b[0m\u001b[0;34m:\u001b[0m\u001b[0;34m\u001b[0m\u001b[0m\n\u001b[1;32m    131\u001b[0m             \u001b[0mprefix\u001b[0m \u001b[0;34m=\u001b[0m \u001b[0mself\u001b[0m\u001b[0;34m.\u001b[0m\u001b[0m__class__\u001b[0m\u001b[0;34m.\u001b[0m\u001b[0m__name__\u001b[0m\u001b[0;34m\u001b[0m\u001b[0m\n\u001b[0;32m--> 132\u001b[0;31m             \u001b[0mname\u001b[0m \u001b[0;34m=\u001b[0m \u001b[0m_to_snake_case\u001b[0m\u001b[0;34m(\u001b[0m\u001b[0mprefix\u001b[0m\u001b[0;34m)\u001b[0m \u001b[0;34m+\u001b[0m \u001b[0;34m'_'\u001b[0m \u001b[0;34m+\u001b[0m \u001b[0mstr\u001b[0m\u001b[0;34m(\u001b[0m\u001b[0mK\u001b[0m\u001b[0;34m.\u001b[0m\u001b[0mget_uid\u001b[0m\u001b[0;34m(\u001b[0m\u001b[0mprefix\u001b[0m\u001b[0;34m)\u001b[0m\u001b[0;34m)\u001b[0m\u001b[0;34m\u001b[0m\u001b[0m\n\u001b[0m\u001b[1;32m    133\u001b[0m         \u001b[0mself\u001b[0m\u001b[0;34m.\u001b[0m\u001b[0mname\u001b[0m \u001b[0;34m=\u001b[0m \u001b[0mname\u001b[0m\u001b[0;34m\u001b[0m\u001b[0m\n\u001b[1;32m    134\u001b[0m \u001b[0;34m\u001b[0m\u001b[0m\n",
      "\u001b[0;32m/Library/Frameworks/Python.framework/Versions/3.6/lib/python3.6/site-packages/keras/backend/tensorflow_backend.py\u001b[0m in \u001b[0;36mget_uid\u001b[0;34m(prefix)\u001b[0m\n\u001b[1;32m     72\u001b[0m     \"\"\"\n\u001b[1;32m     73\u001b[0m     \u001b[0;32mglobal\u001b[0m \u001b[0m_GRAPH_UID_DICTS\u001b[0m\u001b[0;34m\u001b[0m\u001b[0m\n\u001b[0;32m---> 74\u001b[0;31m     \u001b[0mgraph\u001b[0m \u001b[0;34m=\u001b[0m \u001b[0mtf\u001b[0m\u001b[0;34m.\u001b[0m\u001b[0mget_default_graph\u001b[0m\u001b[0;34m(\u001b[0m\u001b[0;34m)\u001b[0m\u001b[0;34m\u001b[0m\u001b[0m\n\u001b[0m\u001b[1;32m     75\u001b[0m     \u001b[0;32mif\u001b[0m \u001b[0mgraph\u001b[0m \u001b[0;32mnot\u001b[0m \u001b[0;32min\u001b[0m \u001b[0m_GRAPH_UID_DICTS\u001b[0m\u001b[0;34m:\u001b[0m\u001b[0;34m\u001b[0m\u001b[0m\n\u001b[1;32m     76\u001b[0m         \u001b[0m_GRAPH_UID_DICTS\u001b[0m\u001b[0;34m[\u001b[0m\u001b[0mgraph\u001b[0m\u001b[0;34m]\u001b[0m \u001b[0;34m=\u001b[0m \u001b[0mdefaultdict\u001b[0m\u001b[0;34m(\u001b[0m\u001b[0mint\u001b[0m\u001b[0;34m)\u001b[0m\u001b[0;34m\u001b[0m\u001b[0m\n",
      "\u001b[0;31mAttributeError\u001b[0m: module 'tensorflow' has no attribute 'get_default_graph'"
     ]
    }
   ],
   "source": [
    "# define model\n",
    "lstm_model = Sequential()\n",
    "lstm_model.add(Conv1D(filters=32, kernel_size=5,\n",
    "                  strides=1, padding=\"causal\",\n",
    "                  activation=\"relu\",\n",
    "                  input_shape=(n_timesteps, n_features)))"
   ]
  },
  {
   "cell_type": "code",
   "execution_count": null,
   "metadata": {
    "colab": {},
    "colab_type": "code",
    "id": "xjiVqflu2Ndf"
   },
   "outputs": [],
   "source": [
    "lstm_model.add(LSTM(200, activation='relu', return_sequences=True))\n",
    "# lstm_model.add(RepeatVector(n_outputs))\n",
    "lstm_model.add(LSTM(200, activation='relu', return_sequences=True))\n",
    "lstm_model.add(TimeDistributed(Dense(1, activation='relu')))\n",
    "#lstm_model.add(TimeDistributed(Dense(1)))\n",
    "#lstm_model.compile(loss='mse', optimizer=Adam(lr=0.001))\n",
    "lstm_model.compile(loss='mse', optimizer=Adam(lr=0.001),\n",
    "              metrics=['acc'])"
   ]
  },
  {
   "cell_type": "code",
   "execution_count": null,
   "metadata": {
    "colab": {
     "base_uri": "https://localhost:8080/",
     "height": 34
    },
    "colab_type": "code",
    "executionInfo": {
     "elapsed": 651,
     "status": "ok",
     "timestamp": 1584303237043,
     "user": {
      "displayName": "Eser İnan Arslan",
      "photoUrl": "https://lh3.googleusercontent.com/a-/AOh14Ggz536p806W0W9-wxWFfPdVV303PuNNPAhu9S1UjA=s64",
      "userId": "01966049699378036829"
     },
     "user_tz": -180
    },
    "id": "b-hOSDGb4QMy",
    "outputId": "db1d0cdb-f7c8-45e1-ecf6-96de07ca19d2"
   },
   "outputs": [],
   "source": [
    "train_X_lstm.shape, train_Y_lstm.shape"
   ]
  },
  {
   "cell_type": "code",
   "execution_count": null,
   "metadata": {
    "colab": {
     "base_uri": "https://localhost:8080/",
     "height": 1000
    },
    "colab_type": "code",
    "executionInfo": {
     "elapsed": 27664,
     "status": "ok",
     "timestamp": 1584303266203,
     "user": {
      "displayName": "Eser İnan Arslan",
      "photoUrl": "https://lh3.googleusercontent.com/a-/AOh14Ggz536p806W0W9-wxWFfPdVV303PuNNPAhu9S1UjA=s64",
      "userId": "01966049699378036829"
     },
     "user_tz": -180
    },
    "id": "4KlZIJkZ2btx",
    "outputId": "7e24c9e9-fca8-4475-fe72-ab72099dd03f"
   },
   "outputs": [],
   "source": [
    "now = datetime.now()\n",
    "\n",
    "history = lstm_model.fit(train_X_lstm, train_Y_lstm, epochs=epochs, batch_size=batch_size, validation_data=(test_X_lstm, test_Y_lstm), \n",
    "                    callbacks=[EarlyStopping(monitor='val_loss', patience=10)], verbose=verbose, shuffle=False)\n",
    "\n",
    "lstm_model.summary()\n",
    "\n",
    "end = datetime.now()\n",
    "print(\"LSTM process finished at : \", end)\n",
    "print(\"LSTM process took : \", end-now)"
   ]
  },
  {
   "cell_type": "code",
   "execution_count": null,
   "metadata": {
    "colab": {
     "base_uri": "https://localhost:8080/",
     "height": 34
    },
    "colab_type": "code",
    "executionInfo": {
     "elapsed": 1313,
     "status": "ok",
     "timestamp": 1584303276549,
     "user": {
      "displayName": "Eser İnan Arslan",
      "photoUrl": "https://lh3.googleusercontent.com/a-/AOh14Ggz536p806W0W9-wxWFfPdVV303PuNNPAhu9S1UjA=s64",
      "userId": "01966049699378036829"
     },
     "user_tz": -180
    },
    "id": "bW0Atubn4Kri",
    "outputId": "8f5fd49e-f866-47af-f037-33a58476382f"
   },
   "outputs": [],
   "source": [
    "# Predict results with LSTM Model\n",
    "lstm_predicts = lstm_model.predict(test_X_lstm, verbose=verbose)"
   ]
  },
  {
   "cell_type": "code",
   "execution_count": null,
   "metadata": {
    "colab": {
     "base_uri": "https://localhost:8080/",
     "height": 306
    },
    "colab_type": "code",
    "executionInfo": {
     "elapsed": 993,
     "status": "ok",
     "timestamp": 1584303279030,
     "user": {
      "displayName": "Eser İnan Arslan",
      "photoUrl": "https://lh3.googleusercontent.com/a-/AOh14Ggz536p806W0W9-wxWFfPdVV303PuNNPAhu9S1UjA=s64",
      "userId": "01966049699378036829"
     },
     "user_tz": -180
    },
    "id": "kHPyI2AA7MeL",
    "outputId": "0a01254e-4feb-4cde-da4d-962e3388c910"
   },
   "outputs": [],
   "source": [
    "lstm_predicts"
   ]
  },
  {
   "cell_type": "code",
   "execution_count": null,
   "metadata": {
    "colab": {
     "base_uri": "https://localhost:8080/",
     "height": 476
    },
    "colab_type": "code",
    "executionInfo": {
     "elapsed": 800,
     "status": "ok",
     "timestamp": 1584303282553,
     "user": {
      "displayName": "Eser İnan Arslan",
      "photoUrl": "https://lh3.googleusercontent.com/a-/AOh14Ggz536p806W0W9-wxWFfPdVV303PuNNPAhu9S1UjA=s64",
      "userId": "01966049699378036829"
     },
     "user_tz": -180
    },
    "id": "suidDyi0AS0I",
    "outputId": "059613c1-9950-48e6-ff93-d2d02a6958e9"
   },
   "outputs": [],
   "source": [
    "test_scaled"
   ]
  },
  {
   "cell_type": "code",
   "execution_count": null,
   "metadata": {
    "colab": {},
    "colab_type": "code",
    "id": "leqChZsQ-jz_"
   },
   "outputs": [],
   "source": [
    "# Invert scaled predictons to time series\n",
    "predictions = list()\n",
    "start = 9 # test period\n",
    "l = len(test_scaled) - start\n",
    "\n",
    "lstm_rmse = []\n",
    "lstm_mape = []\n",
    "\n",
    "for i in range(len(test_scaled)):\n",
    "    X1, y = test_scaled[l, 0:-1], test_scaled[l, -1]\n",
    "    X1 = X1[-12:] # ts_window\n",
    "\n",
    "    X1 = X1.reshape((1,-1))\n",
    "\n",
    "    yhat = invert_scale(scaler, X1[0], lstm_predicts[i][0])\n",
    "        \n",
    "    l=l+1\n",
    "\n",
    "    yhat = inverse_difference(train['Sales'], yhat, len(test_scaled) + 1 - i)\n",
    "\n",
    "    predictions.append(yhat)\n",
    "\n",
    "    lstm_rmse.append(sqrt(mean_squared_error([train['Sales'][-9:][i]], [yhat])))\n",
    "    lstm_mape.append(mean_absolute_percentage_error([train['Sales'][-9:][i]], [yhat]))"
   ]
  },
  {
   "cell_type": "code",
   "execution_count": null,
   "metadata": {
    "colab": {
     "base_uri": "https://localhost:8080/",
     "height": 170
    },
    "colab_type": "code",
    "executionInfo": {
     "elapsed": 702,
     "status": "ok",
     "timestamp": 1584303287850,
     "user": {
      "displayName": "Eser İnan Arslan",
      "photoUrl": "https://lh3.googleusercontent.com/a-/AOh14Ggz536p806W0W9-wxWFfPdVV303PuNNPAhu9S1UjA=s64",
      "userId": "01966049699378036829"
     },
     "user_tz": -180
    },
    "id": "HKR9rWSg-j8W",
    "outputId": "414f68c4-4c70-4516-e1d9-ce37e4539af8"
   },
   "outputs": [],
   "source": [
    "predictions"
   ]
  },
  {
   "cell_type": "code",
   "execution_count": null,
   "metadata": {
    "colab": {
     "base_uri": "https://localhost:8080/",
     "height": 51
    },
    "colab_type": "code",
    "executionInfo": {
     "elapsed": 840,
     "status": "ok",
     "timestamp": 1584303293264,
     "user": {
      "displayName": "Eser İnan Arslan",
      "photoUrl": "https://lh3.googleusercontent.com/a-/AOh14Ggz536p806W0W9-wxWFfPdVV303PuNNPAhu9S1UjA=s64",
      "userId": "01966049699378036829"
     },
     "user_tz": -180
    },
    "id": "cqMrgFPI-kAU",
    "outputId": "acb66d5e-d7a7-4f35-8b52-90d4d5576b61"
   },
   "outputs": [],
   "source": [
    "print(\"LSTM RMSE:\", np.mean(lstm_rmse))\n",
    "print(\"LSTM MAPE:\", np.mean(lstm_mape))"
   ]
  },
  {
   "cell_type": "code",
   "execution_count": null,
   "metadata": {
    "colab": {},
    "colab_type": "code",
    "id": "cqsN0n2JLEo1"
   },
   "outputs": [],
   "source": []
  },
  {
   "cell_type": "code",
   "execution_count": null,
   "metadata": {
    "colab": {
     "base_uri": "https://localhost:8080/",
     "height": 328
    },
    "colab_type": "code",
    "executionInfo": {
     "elapsed": 813,
     "status": "ok",
     "timestamp": 1584303562876,
     "user": {
      "displayName": "Eser İnan Arslan",
      "photoUrl": "https://lh3.googleusercontent.com/a-/AOh14Ggz536p806W0W9-wxWFfPdVV303PuNNPAhu9S1UjA=s64",
      "userId": "01966049699378036829"
     },
     "user_tz": -180
    },
    "id": "SbNphIJFLEld",
    "outputId": "d5c990f8-4e4c-496d-bcb9-11c9528106e9"
   },
   "outputs": [],
   "source": [
    "result_df['LSTM_Predictions'] = predictions\n",
    "result_df.head(9)"
   ]
  },
  {
   "cell_type": "code",
   "execution_count": null,
   "metadata": {
    "colab": {
     "base_uri": "https://localhost:8080/",
     "height": 284
    },
    "colab_type": "code",
    "executionInfo": {
     "elapsed": 897,
     "status": "ok",
     "timestamp": 1584303574802,
     "user": {
      "displayName": "Eser İnan Arslan",
      "photoUrl": "https://lh3.googleusercontent.com/a-/AOh14Ggz536p806W0W9-wxWFfPdVV303PuNNPAhu9S1UjA=s64",
      "userId": "01966049699378036829"
     },
     "user_tz": -180
    },
    "id": "97FgxfqzLOOO",
    "outputId": "b2fb4ee2-2dc3-41cd-855d-29a0a34fcc67"
   },
   "outputs": [],
   "source": [
    "result_df[:9].plot(figsize=(10,4))"
   ]
  },
  {
   "cell_type": "code",
   "execution_count": null,
   "metadata": {
    "colab": {},
    "colab_type": "code",
    "id": "a1WMNpK6VI0e"
   },
   "outputs": [],
   "source": [
    "#Export dataframe as a csv\n",
    "result_df.to_csv(\"results.csv\", index=0)"
   ]
  },
  {
   "cell_type": "code",
   "execution_count": null,
   "metadata": {
    "colab": {},
    "colab_type": "code",
    "id": "6Mv1bG-iUrZv"
   },
   "outputs": [],
   "source": []
  }
 ],
 "metadata": {
  "colab": {
   "collapsed_sections": [],
   "name": "GE_SalesPrediction.ipynb",
   "provenance": [],
   "toc_visible": true
  },
  "kernelspec": {
   "display_name": "Python 3",
   "language": "python",
   "name": "python3"
  },
  "language_info": {
   "codemirror_mode": {
    "name": "ipython",
    "version": 3
   },
   "file_extension": ".py",
   "mimetype": "text/x-python",
   "name": "python",
   "nbconvert_exporter": "python",
   "pygments_lexer": "ipython3",
   "version": "3.6.6"
  }
 },
 "nbformat": 4,
 "nbformat_minor": 1
}
